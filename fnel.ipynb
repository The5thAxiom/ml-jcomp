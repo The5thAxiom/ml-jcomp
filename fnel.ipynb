{
 "cells": [
  {
   "cell_type": "markdown",
   "metadata": {},
   "source": [
    "# Federated Never Ending Learning"
   ]
  },
  {
   "cell_type": "markdown",
   "metadata": {},
   "source": [
    "## Alignment Layer"
   ]
  },
  {
   "cell_type": "code",
   "execution_count": 152,
   "metadata": {},
   "outputs": [],
   "source": [
    "import pandas as pd\n",
    "import numpy as np\n",
    "import matplotlib.pyplot as plt"
   ]
  },
  {
   "cell_type": "code",
   "execution_count": 153,
   "metadata": {},
   "outputs": [],
   "source": [
    "from sklearn.model_selection import train_test_split\n",
    "from sklearn.metrics import confusion_matrix, classification_report"
   ]
  },
  {
   "cell_type": "code",
   "execution_count": 154,
   "metadata": {},
   "outputs": [],
   "source": [
    "from tensorflow import keras\n",
    "from keras.models import Sequential\n",
    "from keras.layers import Dense"
   ]
  },
  {
   "cell_type": "code",
   "execution_count": 155,
   "metadata": {},
   "outputs": [],
   "source": [
    "df = pd.read_csv('datasets/CICIDS_test.csv', skipinitialspace=True)"
   ]
  },
  {
   "cell_type": "code",
   "execution_count": 156,
   "metadata": {},
   "outputs": [],
   "source": [
    "from sklearn.preprocessing import MinMaxScaler, Normalizer\n",
    "# from keras.utils import to_categorical\n",
    "\n",
    "# # removing any class with less than 'thresh' samples\n",
    "# thresh = 1000\n",
    "# counts = df[['Label']].value_counts().to_dict()\n",
    "# keep = [x[0] for x in counts if counts[x] >= thresh]\n",
    "# df = df.loc[df['Label'].isin(keep)]\n",
    "\n",
    "\n",
    "X = df.loc[:, df.columns != 'Label']\n",
    "X = Normalizer().fit_transform(X)\n",
    "X = MinMaxScaler().fit_transform(X)\n",
    "Y = df[['Label']].to_numpy()"
   ]
  },
  {
   "cell_type": "code",
   "execution_count": 157,
   "metadata": {},
   "outputs": [
    {
     "name": "stdout",
     "output_type": "stream",
     "text": [
      "(566149, 78)\n",
      "(566149, 1)\n",
      "15\n"
     ]
    },
    {
     "data": {
      "text/plain": [
       "0     454620\n",
       "4      46215\n",
       "10     31786\n",
       "2      25606\n",
       "3       2059\n",
       "7       1588\n",
       "11      1179\n",
       "6       1159\n",
       "5       1100\n",
       "1        393\n",
       "12       301\n",
       "14       130\n",
       "9          7\n",
       "13         4\n",
       "8          2\n",
       "dtype: int64"
      ]
     },
     "execution_count": 157,
     "metadata": {},
     "output_type": "execute_result"
    }
   ],
   "source": [
    "print(X.shape)\n",
    "print(Y.shape)\n",
    "print(len(np.unique(Y)))\n",
    "pd.value_counts(Y.ravel())"
   ]
  },
  {
   "cell_type": "markdown",
   "metadata": {},
   "source": [
    "## Classification Models"
   ]
  },
  {
   "cell_type": "code",
   "execution_count": 158,
   "metadata": {},
   "outputs": [],
   "source": [
    "class BinaryClassification:\n",
    "    def __init__(self, input_dims, layers):\n",
    "        self.model = Sequential(name=\"server_model\")\n",
    "        self.model.add(Dense(\n",
    "            layers[0],\n",
    "            input_shape=(input_dims,),\n",
    "            activation='relu'\n",
    "        ))\n",
    "        for l in layers[1:]:\n",
    "            self.model.add(Dense(l, activation='relu'))\n",
    "        self.model.add(Dense(1, activation='sigmoid'))\n",
    "        self.model.compile(\n",
    "            loss='binary_crossentropy',\n",
    "            optimizer='adam',\n",
    "            metrics=['accuracy', ]\n",
    "        )\n",
    "        self.model.summary()\n",
    "    \n",
    "    def fit(self, X, Y, epochs, batch_size):\n",
    "        Y_bin = np.asarray([\n",
    "            0 if y == 0 else 1 for y in Y.ravel()\n",
    "        ]).reshape(-1, 1)\n",
    "        # print(Y_bin.shape)\n",
    "        # print(pd.value_counts(Y_bin.ravel()))\n",
    "        self.model.fit(X, Y_bin, epochs=epochs, batch_size=batch_size)\n",
    "\n",
    "    def predict(self, X, Y):\n",
    "        Y_bin = np.asarray([\n",
    "            0 if y == 0 else 1 for y in Y.ravel()\n",
    "        ]).reshape(-1, 1)\n",
    "        # print(pd.value_counts(Y_bin.ravel()))\n",
    "        \n",
    "        preds = self.model.predict(X)\n",
    "        preds = np.where(preds > 0.5, 1, 0)\n",
    "\n",
    "        # print(Y_bin.shape)\n",
    "        # print(preds.shape)\n",
    "        print(classification_report(Y_bin, preds))\n",
    "        print(confusion_matrix(Y_bin, preds))\n"
   ]
  },
  {
   "cell_type": "code",
   "execution_count": 159,
   "metadata": {},
   "outputs": [],
   "source": [
    "class MulticlassClassification:\n",
    "    def __init__(self, input_dims, layers, num_classes):\n",
    "        self.model = Sequential(name=\"server_model\")\n",
    "        self.model.add(Dense(\n",
    "            layers[0],\n",
    "            input_shape=(input_dims,),\n",
    "            activation='relu'\n",
    "        ))\n",
    "        for l in layers[1:]:\n",
    "            self.model.add(Dense(l, activation='relu'))\n",
    "        self.model.add(Dense(num_classes, activation='softmax'))\n",
    "        self.model.compile(\n",
    "            loss='sparse_categorical_crossentropy',\n",
    "            optimizer='adam',\n",
    "            metrics=['accuracy']\n",
    "        )\n",
    "        self.model.summary()\n",
    "    \n",
    "    def fit(self, X, Y, epochs, batch_size):\n",
    "        # print(pd.value_counts(Y.ravel()))\n",
    "        self.model.fit(X, Y.ravel(), epochs=epochs, batch_size=batch_size)\n",
    "\n",
    "    def predict(self, X, Y):\n",
    "        # print(pd.value_counts(Y.ravel()))\n",
    "        \n",
    "        preds = self.model.predict(X)\n",
    "        preds = [np.argmax(p) for p in preds]\n",
    "        \n",
    "        print(classification_report(Y, preds))\n",
    "        print(confusion_matrix(Y, preds))\n"
   ]
  },
  {
   "cell_type": "markdown",
   "metadata": {},
   "source": [
    "## Non-Federated"
   ]
  },
  {
   "cell_type": "code",
   "execution_count": 160,
   "metadata": {},
   "outputs": [
    {
     "name": "stdout",
     "output_type": "stream",
     "text": [
      "(396304, 78)\n",
      "(396304, 1)\n",
      "[ 0  1  2  3  4  5  6  7  8  9 10 11 12 13 14]\n",
      "0     318395\n",
      "4      32391\n",
      "10     22137\n",
      "2      17891\n",
      "3       1417\n",
      "7       1123\n",
      "11       827\n",
      "6        786\n",
      "5        780\n",
      "1        257\n",
      "12       197\n",
      "14        92\n",
      "9          7\n",
      "13         2\n",
      "8          2\n",
      "dtype: int64\n",
      "(169845, 78)\n",
      "(169845, 1)\n",
      "[ 0  1  2  3  4  5  6  7 10 11 12 13 14]\n",
      "0     136225\n",
      "4      13824\n",
      "10      9649\n",
      "2       7715\n",
      "3        642\n",
      "7        465\n",
      "6        373\n",
      "11       352\n",
      "5        320\n",
      "1        136\n",
      "12       104\n",
      "14        38\n",
      "13         2\n",
      "dtype: int64\n"
     ]
    }
   ],
   "source": [
    "X_train, X_test, Y_train, Y_test = train_test_split(X, Y, train_size=0.7, random_state=1)\n",
    "\n",
    "print(X_train.shape)\n",
    "print(Y_train.shape)\n",
    "print(np.unique(Y_train))\n",
    "print(pd.value_counts(Y_train.ravel()))\n",
    "\n",
    "print(X_test.shape)\n",
    "print(Y_test.shape)\n",
    "print(np.unique(Y_test))\n",
    "print(pd.value_counts(Y_test.ravel()))"
   ]
  },
  {
   "cell_type": "markdown",
   "metadata": {},
   "source": [
    "### Binary Classification into Benign/Malicious"
   ]
  },
  {
   "cell_type": "code",
   "execution_count": null,
   "metadata": {},
   "outputs": [],
   "source": []
  },
  {
   "cell_type": "code",
   "execution_count": 161,
   "metadata": {},
   "outputs": [
    {
     "name": "stdout",
     "output_type": "stream",
     "text": [
      "Model: \"server_model\"\n",
      "_________________________________________________________________\n",
      " Layer (type)                Output Shape              Param #   \n",
      "=================================================================\n",
      " dense_172 (Dense)           (None, 20)                1580      \n",
      "                                                                 \n",
      " dense_173 (Dense)           (None, 20)                420       \n",
      "                                                                 \n",
      " dense_174 (Dense)           (None, 20)                420       \n",
      "                                                                 \n",
      " dense_175 (Dense)           (None, 1)                 21        \n",
      "                                                                 \n",
      "=================================================================\n",
      "Total params: 2,441\n",
      "Trainable params: 2,441\n",
      "Non-trainable params: 0\n",
      "_________________________________________________________________\n",
      "Epoch 1/20\n",
      "12385/12385 [==============================] - 42s 3ms/step - loss: 0.0984 - accuracy: 0.9641\n",
      "Epoch 2/20\n",
      "12385/12385 [==============================] - 39s 3ms/step - loss: 0.0473 - accuracy: 0.9862\n",
      "Epoch 3/20\n",
      "12385/12385 [==============================] - 39s 3ms/step - loss: 0.0391 - accuracy: 0.9889\n",
      "Epoch 4/20\n",
      "12385/12385 [==============================] - 37s 3ms/step - loss: 0.0345 - accuracy: 0.9902\n",
      "Epoch 5/20\n",
      "12385/12385 [==============================] - 36s 3ms/step - loss: 0.0310 - accuracy: 0.9914\n",
      "Epoch 6/20\n",
      "12385/12385 [==============================] - 37s 3ms/step - loss: 0.0288 - accuracy: 0.9921\n",
      "Epoch 7/20\n",
      "12385/12385 [==============================] - 39s 3ms/step - loss: 0.0268 - accuracy: 0.9927\n",
      "Epoch 8/20\n",
      "12385/12385 [==============================] - 39s 3ms/step - loss: 0.0257 - accuracy: 0.9931\n",
      "Epoch 9/20\n",
      "12385/12385 [==============================] - 39s 3ms/step - loss: 0.0248 - accuracy: 0.9934\n",
      "Epoch 10/20\n",
      "12385/12385 [==============================] - 39s 3ms/step - loss: 0.0241 - accuracy: 0.9936\n",
      "Epoch 11/20\n",
      "12385/12385 [==============================] - 39s 3ms/step - loss: 0.0237 - accuracy: 0.9937\n",
      "Epoch 12/20\n",
      "12385/12385 [==============================] - 39s 3ms/step - loss: 0.0228 - accuracy: 0.9940\n",
      "Epoch 13/20\n",
      "12385/12385 [==============================] - 38s 3ms/step - loss: 0.0226 - accuracy: 0.9940\n",
      "Epoch 14/20\n",
      "12385/12385 [==============================] - 39s 3ms/step - loss: 0.0218 - accuracy: 0.9941\n",
      "Epoch 15/20\n",
      "12385/12385 [==============================] - 39s 3ms/step - loss: 0.0217 - accuracy: 0.9943\n",
      "Epoch 16/20\n",
      "12385/12385 [==============================] - 40s 3ms/step - loss: 0.0213 - accuracy: 0.9944\n",
      "Epoch 17/20\n",
      "12385/12385 [==============================] - 39s 3ms/step - loss: 0.0209 - accuracy: 0.9945\n",
      "Epoch 18/20\n",
      "12385/12385 [==============================] - 39s 3ms/step - loss: 0.0208 - accuracy: 0.9945\n",
      "Epoch 19/20\n",
      "12385/12385 [==============================] - 39s 3ms/step - loss: 0.0202 - accuracy: 0.9946\n",
      "Epoch 20/20\n",
      "12385/12385 [==============================] - 38s 3ms/step - loss: 0.0200 - accuracy: 0.9947\n"
     ]
    }
   ],
   "source": [
    "model_binary = BinaryClassification(\n",
    "    input_dims=78,\n",
    "    layers=[20, 20, 20]\n",
    ")\n",
    "model_binary.fit(X_train, Y_train, epochs=20, batch_size=32)"
   ]
  },
  {
   "cell_type": "code",
   "execution_count": 162,
   "metadata": {},
   "outputs": [
    {
     "name": "stdout",
     "output_type": "stream",
     "text": [
      "5308/5308 [==============================] - 11s 2ms/step\n",
      "              precision    recall  f1-score   support\n",
      "\n",
      "           0       1.00      1.00      1.00    136225\n",
      "           1       0.99      0.98      0.99     33620\n",
      "\n",
      "    accuracy                           0.99    169845\n",
      "   macro avg       0.99      0.99      0.99    169845\n",
      "weighted avg       0.99      0.99      0.99    169845\n",
      "\n",
      "[[135821    404]\n",
      " [   530  33090]]\n"
     ]
    }
   ],
   "source": [
    "model_binary.predict(X_test, Y_test)"
   ]
  },
  {
   "cell_type": "markdown",
   "metadata": {},
   "source": [
    "### SoftMax A"
   ]
  },
  {
   "cell_type": "code",
   "execution_count": 163,
   "metadata": {},
   "outputs": [
    {
     "name": "stdout",
     "output_type": "stream",
     "text": [
      "Model: \"server_model\"\n",
      "_________________________________________________________________\n",
      " Layer (type)                Output Shape              Param #   \n",
      "=================================================================\n",
      " dense_176 (Dense)           (None, 20)                1580      \n",
      "                                                                 \n",
      " dense_177 (Dense)           (None, 20)                420       \n",
      "                                                                 \n",
      " dense_178 (Dense)           (None, 20)                420       \n",
      "                                                                 \n",
      " dense_179 (Dense)           (None, 15)                315       \n",
      "                                                                 \n",
      "=================================================================\n",
      "Total params: 2,735\n",
      "Trainable params: 2,735\n",
      "Non-trainable params: 0\n",
      "_________________________________________________________________\n",
      "Epoch 1/20\n",
      "12385/12385 [==============================] - 34s 3ms/step - loss: 0.1852 - accuracy: 0.9440\n",
      "Epoch 2/20\n",
      "12385/12385 [==============================] - 34s 3ms/step - loss: 0.0845 - accuracy: 0.9781\n",
      "Epoch 3/20\n",
      "12385/12385 [==============================] - 34s 3ms/step - loss: 0.0662 - accuracy: 0.9833\n",
      "Epoch 4/20\n",
      "12385/12385 [==============================] - 34s 3ms/step - loss: 0.0578 - accuracy: 0.9854\n",
      "Epoch 5/20\n",
      "12385/12385 [==============================] - 34s 3ms/step - loss: 0.0517 - accuracy: 0.9870\n",
      "Epoch 6/20\n",
      "12385/12385 [==============================] - 34s 3ms/step - loss: 0.0471 - accuracy: 0.9883\n",
      "Epoch 7/20\n",
      "12385/12385 [==============================] - 34s 3ms/step - loss: 0.0433 - accuracy: 0.9893\n",
      "Epoch 8/20\n",
      "12385/12385 [==============================] - 34s 3ms/step - loss: 0.0405 - accuracy: 0.9900\n",
      "Epoch 9/20\n",
      "12385/12385 [==============================] - 34s 3ms/step - loss: 0.0377 - accuracy: 0.9907\n",
      "Epoch 10/20\n",
      "12385/12385 [==============================] - 34s 3ms/step - loss: 0.0361 - accuracy: 0.9911\n",
      "Epoch 11/20\n",
      "12385/12385 [==============================] - 34s 3ms/step - loss: 0.0344 - accuracy: 0.9916\n",
      "Epoch 12/20\n",
      "12385/12385 [==============================] - 34s 3ms/step - loss: 0.0330 - accuracy: 0.9919\n",
      "Epoch 13/20\n",
      "12385/12385 [==============================] - 34s 3ms/step - loss: 0.0317 - accuracy: 0.9923\n",
      "Epoch 14/20\n",
      "12385/12385 [==============================] - 34s 3ms/step - loss: 0.0309 - accuracy: 0.9924\n",
      "Epoch 15/20\n",
      "12385/12385 [==============================] - 34s 3ms/step - loss: 0.0300 - accuracy: 0.9926\n",
      "Epoch 16/20\n",
      "12385/12385 [==============================] - 34s 3ms/step - loss: 0.0294 - accuracy: 0.9928\n",
      "Epoch 17/20\n",
      "12385/12385 [==============================] - 34s 3ms/step - loss: 0.0289 - accuracy: 0.9930\n",
      "Epoch 18/20\n",
      "12385/12385 [==============================] - 34s 3ms/step - loss: 0.0282 - accuracy: 0.9930\n",
      "Epoch 19/20\n",
      "12385/12385 [==============================] - 34s 3ms/step - loss: 0.0276 - accuracy: 0.9933\n",
      "Epoch 20/20\n",
      "12385/12385 [==============================] - 34s 3ms/step - loss: 0.0274 - accuracy: 0.9933\n"
     ]
    }
   ],
   "source": [
    "model_sf = MulticlassClassification(\n",
    "    input_dims=78,\n",
    "    layers=[20, 20, 20],\n",
    "    num_classes=15\n",
    ")\n",
    "model_sf.fit(X_train, Y_train, epochs=20, batch_size=32)"
   ]
  },
  {
   "cell_type": "code",
   "execution_count": 164,
   "metadata": {},
   "outputs": [
    {
     "name": "stdout",
     "output_type": "stream",
     "text": [
      "5308/5308 [==============================] - 10s 2ms/step\n",
      "              precision    recall  f1-score   support\n",
      "\n",
      "           0       1.00      1.00      1.00    136225\n",
      "           1       0.59      0.60      0.60       136\n",
      "           2       0.98      0.99      0.98      7715\n",
      "           3       0.93      0.97      0.95       642\n",
      "           4       0.98      0.99      0.99     13824\n",
      "           5       0.80      0.71      0.75       320\n",
      "           6       0.88      0.69      0.77       373\n",
      "           7       1.00      0.98      0.99       465\n",
      "          10       0.99      1.00      0.99      9649\n",
      "          11       0.97      0.95      0.96       352\n",
      "          12       0.00      0.00      0.00       104\n",
      "          13       0.00      0.00      0.00         2\n",
      "          14       0.00      0.00      0.00        38\n",
      "\n",
      "    accuracy                           0.99    169845\n",
      "   macro avg       0.70      0.68      0.69    169845\n",
      "weighted avg       0.99      0.99      0.99    169845\n",
      "\n",
      "[[135742     56     62     43    152     45     25      0     97      3\n",
      "       0      0      0]\n",
      " [    54     82      0      0      0      0      0      0      0      0\n",
      "       0      0      0]\n",
      " [    14      0   7636      4     61      0      0      0      0      0\n",
      "       0      0      0]\n",
      " [    20      0      0    620      0      0      2      0      0      0\n",
      "       0      0      0]\n",
      " [    36      0     99      0  13688      1      0      0      0      0\n",
      "       0      0      0]\n",
      " [    84      0      0      0      0    227      9      0      0      0\n",
      "       0      0      0]\n",
      " [   107      0      0      0      0      9    257      0      0      0\n",
      "       0      0      0]\n",
      " [     8      0      0      0      0      0      0    455      1      1\n",
      "       0      0      0]\n",
      " [    20      0      1      0      6      3      0      0   9617      2\n",
      "       0      0      0]\n",
      " [    15      0      0      0      1      0      0      0      0    336\n",
      "       0      0      0]\n",
      " [    99      0      0      0      0      0      0      0      0      5\n",
      "       0      0      0]\n",
      " [     1      0      0      0      0      0      0      0      0      1\n",
      "       0      0      0]\n",
      " [    38      0      0      0      0      0      0      0      0      0\n",
      "       0      0      0]]\n"
     ]
    }
   ],
   "source": [
    "model_sf.predict(X_test, Y_test)"
   ]
  },
  {
   "cell_type": "markdown",
   "metadata": {},
   "source": [
    "## Anomaly Detection Using Isolation Forest"
   ]
  },
  {
   "cell_type": "markdown",
   "metadata": {},
   "source": [
    "## Federated Learning"
   ]
  },
  {
   "cell_type": "code",
   "execution_count": 165,
   "metadata": {},
   "outputs": [],
   "source": [
    "X_1, X_2, Y_1, Y_2 = train_test_split(X_train, Y_train, train_size=0.5, random_state=1)"
   ]
  },
  {
   "cell_type": "code",
   "execution_count": 166,
   "metadata": {},
   "outputs": [
    {
     "name": "stdout",
     "output_type": "stream",
     "text": [
      "(198152, 78)\n",
      "(198152, 1)\n",
      "[ 0  1  2  3  4  5  6  7  8  9 10 11 12 13 14]\n",
      "0     158990\n",
      "4      16294\n",
      "10     11120\n",
      "2       8918\n",
      "3        735\n",
      "7        561\n",
      "11       440\n",
      "5        409\n",
      "6        392\n",
      "1        139\n",
      "12        99\n",
      "14        51\n",
      "9          2\n",
      "8          1\n",
      "13         1\n",
      "dtype: int64\n",
      "(198152, 78)\n",
      "(198152, 1)\n",
      "[ 0  1  2  3  4  5  6  7  8  9 10 11 12 13 14]\n",
      "0     159405\n",
      "4      16097\n",
      "10     11017\n",
      "2       8973\n",
      "3        682\n",
      "7        562\n",
      "6        394\n",
      "11       387\n",
      "5        371\n",
      "1        118\n",
      "12        98\n",
      "14        41\n",
      "9          5\n",
      "8          1\n",
      "13         1\n",
      "dtype: int64\n"
     ]
    }
   ],
   "source": [
    "print(X_1.shape)\n",
    "print(Y_1.shape)\n",
    "print(np.unique(Y_1))\n",
    "print(pd.value_counts(Y_1.ravel()))\n",
    "print(X_2.shape)\n",
    "print(Y_2.shape)\n",
    "print(np.unique(Y_2))\n",
    "print(pd.value_counts(Y_2.ravel()))"
   ]
  },
  {
   "cell_type": "markdown",
   "metadata": {},
   "source": [
    "### Binary Classification"
   ]
  },
  {
   "cell_type": "code",
   "execution_count": 167,
   "metadata": {},
   "outputs": [
    {
     "name": "stdout",
     "output_type": "stream",
     "text": [
      "Model: \"server_model\"\n",
      "_________________________________________________________________\n",
      " Layer (type)                Output Shape              Param #   \n",
      "=================================================================\n",
      " dense_180 (Dense)           (None, 20)                1580      \n",
      "                                                                 \n",
      " dense_181 (Dense)           (None, 20)                420       \n",
      "                                                                 \n",
      " dense_182 (Dense)           (None, 20)                420       \n",
      "                                                                 \n",
      " dense_183 (Dense)           (None, 1)                 21        \n",
      "                                                                 \n",
      "=================================================================\n",
      "Total params: 2,441\n",
      "Trainable params: 2,441\n",
      "Non-trainable params: 0\n",
      "_________________________________________________________________\n",
      "Epoch 1/20\n",
      "6193/6193 [==============================] - 19s 3ms/step - loss: 0.1282 - accuracy: 0.9508\n",
      "Epoch 2/20\n",
      "6193/6193 [==============================] - 18s 3ms/step - loss: 0.0633 - accuracy: 0.9804\n",
      "Epoch 3/20\n",
      "6193/6193 [==============================] - 17s 3ms/step - loss: 0.0534 - accuracy: 0.9838\n",
      "Epoch 4/20\n",
      "6193/6193 [==============================] - 17s 3ms/step - loss: 0.0473 - accuracy: 0.9859\n",
      "Epoch 5/20\n",
      "6193/6193 [==============================] - 17s 3ms/step - loss: 0.0429 - accuracy: 0.9877\n",
      "Epoch 6/20\n",
      "6193/6193 [==============================] - 17s 3ms/step - loss: 0.0395 - accuracy: 0.9887\n",
      "Epoch 7/20\n",
      "6193/6193 [==============================] - 17s 3ms/step - loss: 0.0365 - accuracy: 0.9894\n",
      "Epoch 8/20\n",
      "6193/6193 [==============================] - 17s 3ms/step - loss: 0.0348 - accuracy: 0.9901\n",
      "Epoch 9/20\n",
      "6193/6193 [==============================] - 17s 3ms/step - loss: 0.0325 - accuracy: 0.9907\n",
      "Epoch 10/20\n",
      "6193/6193 [==============================] - 17s 3ms/step - loss: 0.0310 - accuracy: 0.9912\n",
      "Epoch 11/20\n",
      "6193/6193 [==============================] - 18s 3ms/step - loss: 0.0299 - accuracy: 0.9917\n",
      "Epoch 12/20\n",
      "6193/6193 [==============================] - 17s 3ms/step - loss: 0.0282 - accuracy: 0.9923\n",
      "Epoch 13/20\n",
      "6193/6193 [==============================] - 17s 3ms/step - loss: 0.0276 - accuracy: 0.9922\n",
      "Epoch 14/20\n",
      "6193/6193 [==============================] - 17s 3ms/step - loss: 0.0271 - accuracy: 0.9925\n",
      "Epoch 15/20\n",
      "6193/6193 [==============================] - 17s 3ms/step - loss: 0.0263 - accuracy: 0.9927\n",
      "Epoch 16/20\n",
      "6193/6193 [==============================] - 17s 3ms/step - loss: 0.0248 - accuracy: 0.9934\n",
      "Epoch 17/20\n",
      "6193/6193 [==============================] - 18s 3ms/step - loss: 0.0255 - accuracy: 0.9931\n",
      "Epoch 18/20\n",
      "6193/6193 [==============================] - 18s 3ms/step - loss: 0.0244 - accuracy: 0.9933\n",
      "Epoch 19/20\n",
      "6193/6193 [==============================] - 18s 3ms/step - loss: 0.0240 - accuracy: 0.9935\n",
      "Epoch 20/20\n",
      "6193/6193 [==============================] - 18s 3ms/step - loss: 0.0240 - accuracy: 0.9936\n"
     ]
    }
   ],
   "source": [
    "model_1 = BinaryClassification(78, [20, 20, 20])\n",
    "model_1.fit(X_1, Y_1, epochs=20, batch_size=32)"
   ]
  },
  {
   "cell_type": "code",
   "execution_count": 168,
   "metadata": {},
   "outputs": [
    {
     "name": "stdout",
     "output_type": "stream",
     "text": [
      "5308/5308 [==============================] - 10s 2ms/step\n",
      "              precision    recall  f1-score   support\n",
      "\n",
      "           0       1.00      0.99      1.00    136225\n",
      "           1       0.98      0.98      0.98     33620\n",
      "\n",
      "    accuracy                           0.99    169845\n",
      "   macro avg       0.99      0.99      0.99    169845\n",
      "weighted avg       0.99      0.99      0.99    169845\n",
      "\n",
      "[[135541    684]\n",
      " [   635  32985]]\n"
     ]
    }
   ],
   "source": [
    "model_1.predict(X_test, Y_test)"
   ]
  },
  {
   "cell_type": "code",
   "execution_count": 169,
   "metadata": {},
   "outputs": [
    {
     "name": "stdout",
     "output_type": "stream",
     "text": [
      "Model: \"server_model\"\n",
      "_________________________________________________________________\n",
      " Layer (type)                Output Shape              Param #   \n",
      "=================================================================\n",
      " dense_184 (Dense)           (None, 20)                1580      \n",
      "                                                                 \n",
      " dense_185 (Dense)           (None, 20)                420       \n",
      "                                                                 \n",
      " dense_186 (Dense)           (None, 20)                420       \n",
      "                                                                 \n",
      " dense_187 (Dense)           (None, 1)                 21        \n",
      "                                                                 \n",
      "=================================================================\n",
      "Total params: 2,441\n",
      "Trainable params: 2,441\n",
      "Non-trainable params: 0\n",
      "_________________________________________________________________\n",
      "Epoch 1/20\n",
      "6193/6193 [==============================] - 18s 3ms/step - loss: 0.1362 - accuracy: 0.9451\n",
      "Epoch 2/20\n",
      "6193/6193 [==============================] - 18s 3ms/step - loss: 0.0706 - accuracy: 0.9781\n",
      "Epoch 3/20\n",
      "6193/6193 [==============================] - 18s 3ms/step - loss: 0.0534 - accuracy: 0.9841\n",
      "Epoch 4/20\n",
      "6193/6193 [==============================] - 18s 3ms/step - loss: 0.0468 - accuracy: 0.9861\n",
      "Epoch 5/20\n",
      "6193/6193 [==============================] - 18s 3ms/step - loss: 0.0415 - accuracy: 0.9879\n",
      "Epoch 6/20\n",
      "6193/6193 [==============================] - 18s 3ms/step - loss: 0.0373 - accuracy: 0.9892\n",
      "Epoch 7/20\n",
      "6193/6193 [==============================] - 18s 3ms/step - loss: 0.0337 - accuracy: 0.9904\n",
      "Epoch 8/20\n",
      "6193/6193 [==============================] - 18s 3ms/step - loss: 0.0313 - accuracy: 0.9912\n",
      "Epoch 9/20\n",
      "6193/6193 [==============================] - 17s 3ms/step - loss: 0.0296 - accuracy: 0.9917\n",
      "Epoch 10/20\n",
      "6193/6193 [==============================] - 18s 3ms/step - loss: 0.0284 - accuracy: 0.9921\n",
      "Epoch 11/20\n",
      "6193/6193 [==============================] - 18s 3ms/step - loss: 0.0270 - accuracy: 0.9926\n",
      "Epoch 12/20\n",
      "6193/6193 [==============================] - 18s 3ms/step - loss: 0.0257 - accuracy: 0.9930\n",
      "Epoch 13/20\n",
      "6193/6193 [==============================] - 18s 3ms/step - loss: 0.0249 - accuracy: 0.9933\n",
      "Epoch 14/20\n",
      "6193/6193 [==============================] - 18s 3ms/step - loss: 0.0246 - accuracy: 0.9933\n",
      "Epoch 15/20\n",
      "6193/6193 [==============================] - 18s 3ms/step - loss: 0.0240 - accuracy: 0.9935\n",
      "Epoch 16/20\n",
      "6193/6193 [==============================] - 18s 3ms/step - loss: 0.0233 - accuracy: 0.9937\n",
      "Epoch 17/20\n",
      "6193/6193 [==============================] - 18s 3ms/step - loss: 0.0229 - accuracy: 0.9938\n",
      "Epoch 18/20\n",
      "6193/6193 [==============================] - 18s 3ms/step - loss: 0.0228 - accuracy: 0.9938\n",
      "Epoch 19/20\n",
      "6193/6193 [==============================] - 18s 3ms/step - loss: 0.0222 - accuracy: 0.9940\n",
      "Epoch 20/20\n",
      "6193/6193 [==============================] - 18s 3ms/step - loss: 0.0221 - accuracy: 0.9942\n"
     ]
    }
   ],
   "source": [
    "model_2 = BinaryClassification(78, [20, 20, 20])\n",
    "model_2.fit(X_2, Y_2, epochs=20, batch_size=32)"
   ]
  },
  {
   "cell_type": "code",
   "execution_count": 170,
   "metadata": {},
   "outputs": [
    {
     "name": "stdout",
     "output_type": "stream",
     "text": [
      "5308/5308 [==============================] - 10s 2ms/step\n",
      "              precision    recall  f1-score   support\n",
      "\n",
      "           0       1.00      1.00      1.00    136225\n",
      "           1       0.99      0.98      0.98     33620\n",
      "\n",
      "    accuracy                           0.99    169845\n",
      "   macro avg       0.99      0.99      0.99    169845\n",
      "weighted avg       0.99      0.99      0.99    169845\n",
      "\n",
      "[[135830    395]\n",
      " [   614  33006]]\n"
     ]
    }
   ],
   "source": [
    "model_2.predict(X_test, Y_test)"
   ]
  },
  {
   "cell_type": "code",
   "execution_count": 171,
   "metadata": {},
   "outputs": [
    {
     "name": "stdout",
     "output_type": "stream",
     "text": [
      "Model: \"server_model\"\n",
      "_________________________________________________________________\n",
      " Layer (type)                Output Shape              Param #   \n",
      "=================================================================\n",
      " dense_188 (Dense)           (None, 20)                1580      \n",
      "                                                                 \n",
      " dense_189 (Dense)           (None, 20)                420       \n",
      "                                                                 \n",
      " dense_190 (Dense)           (None, 20)                420       \n",
      "                                                                 \n",
      " dense_191 (Dense)           (None, 1)                 21        \n",
      "                                                                 \n",
      "=================================================================\n",
      "Total params: 2,441\n",
      "Trainable params: 2,441\n",
      "Non-trainable params: 0\n",
      "_________________________________________________________________\n"
     ]
    }
   ],
   "source": [
    "model_3 = BinaryClassification(78, [20, 20, 20])\n",
    "model_3.model.set_weights(np.mean(\n",
    "        np.array([\n",
    "            model_1.model.get_weights(),\n",
    "            model_2.model.get_weights()\n",
    "        ]),\n",
    "        axis=0\n",
    "    )\n",
    ")"
   ]
  },
  {
   "cell_type": "code",
   "execution_count": 172,
   "metadata": {},
   "outputs": [
    {
     "name": "stdout",
     "output_type": "stream",
     "text": [
      "5308/5308 [==============================] - 10s 2ms/step\n",
      "              precision    recall  f1-score   support\n",
      "\n",
      "           0       0.84      0.94      0.89    136225\n",
      "           1       0.52      0.25      0.33     33620\n",
      "\n",
      "    accuracy                           0.81    169845\n",
      "   macro avg       0.68      0.60      0.61    169845\n",
      "weighted avg       0.77      0.81      0.78    169845\n",
      "\n",
      "[[128564   7661]\n",
      " [ 25323   8297]]\n"
     ]
    }
   ],
   "source": [
    "model_3.predict(X_test, Y_test)"
   ]
  },
  {
   "cell_type": "markdown",
   "metadata": {},
   "source": [
    "### Multiclass Classification"
   ]
  },
  {
   "cell_type": "code",
   "execution_count": 173,
   "metadata": {},
   "outputs": [
    {
     "name": "stdout",
     "output_type": "stream",
     "text": [
      "Model: \"server_model\"\n",
      "_________________________________________________________________\n",
      " Layer (type)                Output Shape              Param #   \n",
      "=================================================================\n",
      " dense_192 (Dense)           (None, 20)                1580      \n",
      "                                                                 \n",
      " dense_193 (Dense)           (None, 20)                420       \n",
      "                                                                 \n",
      " dense_194 (Dense)           (None, 20)                420       \n",
      "                                                                 \n",
      " dense_195 (Dense)           (None, 15)                315       \n",
      "                                                                 \n",
      "=================================================================\n",
      "Total params: 2,735\n",
      "Trainable params: 2,735\n",
      "Non-trainable params: 0\n",
      "_________________________________________________________________\n",
      "Epoch 1/20\n",
      "6193/6193 [==============================] - 18s 3ms/step - loss: 0.2531 - accuracy: 0.9260\n",
      "Epoch 2/20\n",
      "6193/6193 [==============================] - 17s 3ms/step - loss: 0.1089 - accuracy: 0.9699\n",
      "Epoch 3/20\n",
      "6193/6193 [==============================] - 17s 3ms/step - loss: 0.0816 - accuracy: 0.9785\n",
      "Epoch 4/20\n",
      "6193/6193 [==============================] - 17s 3ms/step - loss: 0.0695 - accuracy: 0.9816\n",
      "Epoch 5/20\n",
      "6193/6193 [==============================] - 17s 3ms/step - loss: 0.0624 - accuracy: 0.9832\n",
      "Epoch 6/20\n",
      "6193/6193 [==============================] - 17s 3ms/step - loss: 0.0569 - accuracy: 0.9845\n",
      "Epoch 7/20\n",
      "6193/6193 [==============================] - 17s 3ms/step - loss: 0.0517 - accuracy: 0.9859\n",
      "Epoch 8/20\n",
      "6193/6193 [==============================] - 17s 3ms/step - loss: 0.0480 - accuracy: 0.9869\n",
      "Epoch 9/20\n",
      "6193/6193 [==============================] - 17s 3ms/step - loss: 0.0443 - accuracy: 0.9882\n",
      "Epoch 10/20\n",
      "6193/6193 [==============================] - 17s 3ms/step - loss: 0.0415 - accuracy: 0.9890\n",
      "Epoch 11/20\n",
      "6193/6193 [==============================] - 17s 3ms/step - loss: 0.0394 - accuracy: 0.9897\n",
      "Epoch 12/20\n",
      "6193/6193 [==============================] - 17s 3ms/step - loss: 0.0375 - accuracy: 0.9905\n",
      "Epoch 13/20\n",
      "6193/6193 [==============================] - 17s 3ms/step - loss: 0.0360 - accuracy: 0.9909\n",
      "Epoch 14/20\n",
      "6193/6193 [==============================] - 17s 3ms/step - loss: 0.0346 - accuracy: 0.9912\n",
      "Epoch 15/20\n",
      "6193/6193 [==============================] - 17s 3ms/step - loss: 0.0337 - accuracy: 0.9917\n",
      "Epoch 16/20\n",
      "6193/6193 [==============================] - 17s 3ms/step - loss: 0.0331 - accuracy: 0.9917\n",
      "Epoch 17/20\n",
      "6193/6193 [==============================] - 17s 3ms/step - loss: 0.0321 - accuracy: 0.9921\n",
      "Epoch 18/20\n",
      "6193/6193 [==============================] - 17s 3ms/step - loss: 0.0315 - accuracy: 0.9922\n",
      "Epoch 19/20\n",
      "6193/6193 [==============================] - 17s 3ms/step - loss: 0.0312 - accuracy: 0.9923\n",
      "Epoch 20/20\n",
      "6193/6193 [==============================] - 17s 3ms/step - loss: 0.0302 - accuracy: 0.9923\n"
     ]
    }
   ],
   "source": [
    "model_sf_1 = MulticlassClassification(\n",
    "    78,\n",
    "    [20, 20, 20],\n",
    "    num_classes=15\n",
    ")\n",
    "model_sf_1.fit(X_1, Y_1, epochs=20, batch_size=32)"
   ]
  },
  {
   "cell_type": "code",
   "execution_count": 174,
   "metadata": {},
   "outputs": [
    {
     "name": "stdout",
     "output_type": "stream",
     "text": [
      "5308/5308 [==============================] - 12s 2ms/step\n",
      "              precision    recall  f1-score   support\n",
      "\n",
      "           0       1.00      1.00      1.00    136225\n",
      "           1       0.54      0.60      0.56       136\n",
      "           2       0.98      0.99      0.98      7715\n",
      "           3       0.94      0.93      0.94       642\n",
      "           4       0.99      0.99      0.99     13824\n",
      "           5       0.79      0.66      0.72       320\n",
      "           6       0.86      0.70      0.77       373\n",
      "           7       0.99      0.98      0.98       465\n",
      "          10       0.99      1.00      0.99      9649\n",
      "          11       0.93      0.98      0.95       352\n",
      "          12       0.00      0.00      0.00       104\n",
      "          13       0.00      0.00      0.00         2\n",
      "          14       0.00      0.00      0.00        38\n",
      "\n",
      "    accuracy                           0.99    169845\n",
      "   macro avg       0.69      0.68      0.68    169845\n",
      "weighted avg       0.99      0.99      0.99    169845\n",
      "\n",
      "[[135718     70     75     29    132     45     31      3    106     16\n",
      "       0      0      0]\n",
      " [    55     81      0      0      0      0      0      0      0      0\n",
      "       0      0      0]\n",
      " [    25      0   7627      4     59      0      0      0      0      0\n",
      "       0      0      0]\n",
      " [    39      0      5    596      0      0      2      0      0      0\n",
      "       0      0      0]\n",
      " [    61      0     67      0  13696      0      0      0      0      0\n",
      "       0      0      0]\n",
      " [    92      0      6      2      0    211      9      0      0      0\n",
      "       0      0      0]\n",
      " [   103      0      0      0      0      9    261      0      0      0\n",
      "       0      0      0]\n",
      " [     8      0      0      0      0      0      0    455      1      1\n",
      "       0      0      0]\n",
      " [    19      0      1      0      2      3      0      0   9623      1\n",
      "       0      0      0]\n",
      " [     7      0      0      0      0      0      0      1      0    344\n",
      "       0      0      0]\n",
      " [    98      0      0      0      0      0      0      0      0      6\n",
      "       0      0      0]\n",
      " [     1      0      0      0      0      0      0      0      0      1\n",
      "       0      0      0]\n",
      " [    38      0      0      0      0      0      0      0      0      0\n",
      "       0      0      0]]\n"
     ]
    }
   ],
   "source": [
    "model_sf_1.predict(X_test, Y_test)"
   ]
  },
  {
   "cell_type": "code",
   "execution_count": 175,
   "metadata": {},
   "outputs": [
    {
     "name": "stdout",
     "output_type": "stream",
     "text": [
      "Model: \"server_model\"\n",
      "_________________________________________________________________\n",
      " Layer (type)                Output Shape              Param #   \n",
      "=================================================================\n",
      " dense_196 (Dense)           (None, 20)                1580      \n",
      "                                                                 \n",
      " dense_197 (Dense)           (None, 20)                420       \n",
      "                                                                 \n",
      " dense_198 (Dense)           (None, 20)                420       \n",
      "                                                                 \n",
      " dense_199 (Dense)           (None, 15)                315       \n",
      "                                                                 \n",
      "=================================================================\n",
      "Total params: 2,735\n",
      "Trainable params: 2,735\n",
      "Non-trainable params: 0\n",
      "_________________________________________________________________\n",
      "Epoch 1/20\n",
      "6193/6193 [==============================] - 18s 3ms/step - loss: 0.2361 - accuracy: 0.9278\n",
      "Epoch 2/20\n",
      "6193/6193 [==============================] - 17s 3ms/step - loss: 0.1068 - accuracy: 0.9697\n",
      "Epoch 3/20\n",
      "6193/6193 [==============================] - 17s 3ms/step - loss: 0.0780 - accuracy: 0.9799\n",
      "Epoch 4/20\n",
      "6193/6193 [==============================] - 17s 3ms/step - loss: 0.0667 - accuracy: 0.9828\n",
      "Epoch 5/20\n",
      "6193/6193 [==============================] - 17s 3ms/step - loss: 0.0611 - accuracy: 0.9845\n",
      "Epoch 6/20\n",
      "6193/6193 [==============================] - 17s 3ms/step - loss: 0.0561 - accuracy: 0.9859\n",
      "Epoch 7/20\n",
      "6193/6193 [==============================] - 18s 3ms/step - loss: 0.0521 - accuracy: 0.9870\n",
      "Epoch 8/20\n",
      "6193/6193 [==============================] - 17s 3ms/step - loss: 0.0486 - accuracy: 0.9876\n",
      "Epoch 9/20\n",
      "6193/6193 [==============================] - 17s 3ms/step - loss: 0.0461 - accuracy: 0.9883\n",
      "Epoch 10/20\n",
      "6193/6193 [==============================] - 17s 3ms/step - loss: 0.0439 - accuracy: 0.9889\n",
      "Epoch 11/20\n",
      "6193/6193 [==============================] - 17s 3ms/step - loss: 0.0412 - accuracy: 0.9894\n",
      "Epoch 12/20\n",
      "6193/6193 [==============================] - 17s 3ms/step - loss: 0.0396 - accuracy: 0.9902\n",
      "Epoch 13/20\n",
      "6193/6193 [==============================] - 17s 3ms/step - loss: 0.0375 - accuracy: 0.9908\n",
      "Epoch 14/20\n",
      "6193/6193 [==============================] - 17s 3ms/step - loss: 0.0366 - accuracy: 0.9910\n",
      "Epoch 15/20\n",
      "6193/6193 [==============================] - 17s 3ms/step - loss: 0.0356 - accuracy: 0.9913\n",
      "Epoch 16/20\n",
      "6193/6193 [==============================] - 17s 3ms/step - loss: 0.0346 - accuracy: 0.9916\n",
      "Epoch 17/20\n",
      "6193/6193 [==============================] - 17s 3ms/step - loss: 0.0339 - accuracy: 0.9919\n",
      "Epoch 18/20\n",
      "6193/6193 [==============================] - 17s 3ms/step - loss: 0.0329 - accuracy: 0.9920\n",
      "Epoch 19/20\n",
      "6193/6193 [==============================] - 17s 3ms/step - loss: 0.0326 - accuracy: 0.9922\n",
      "Epoch 20/20\n",
      "6193/6193 [==============================] - 17s 3ms/step - loss: 0.0318 - accuracy: 0.9920\n"
     ]
    }
   ],
   "source": [
    "model_sf_2 = MulticlassClassification(\n",
    "    78,\n",
    "    [20, 20, 20],\n",
    "    num_classes=15\n",
    ")\n",
    "model_sf_2.fit(X_2, Y_2, epochs=20, batch_size=32)"
   ]
  },
  {
   "cell_type": "code",
   "execution_count": 176,
   "metadata": {},
   "outputs": [
    {
     "name": "stdout",
     "output_type": "stream",
     "text": [
      "5308/5308 [==============================] - 10s 2ms/step\n",
      "              precision    recall  f1-score   support\n",
      "\n",
      "           0       0.99      1.00      1.00    136225\n",
      "           1       0.86      0.35      0.50       136\n",
      "           2       0.98      0.99      0.98      7715\n",
      "           3       0.95      0.93      0.94       642\n",
      "           4       0.99      0.98      0.99     13824\n",
      "           5       0.78      0.16      0.26       320\n",
      "           6       0.95      0.65      0.77       373\n",
      "           7       0.97      0.98      0.97       465\n",
      "          10       0.99      1.00      0.99      9649\n",
      "          11       0.95      0.96      0.95       352\n",
      "          12       0.00      0.00      0.00       104\n",
      "          13       0.00      0.00      0.00         2\n",
      "          14       0.00      0.00      0.00        38\n",
      "\n",
      "    accuracy                           0.99    169845\n",
      "   macro avg       0.72      0.61      0.64    169845\n",
      "weighted avg       0.99      0.99      0.99    169845\n",
      "\n",
      "[[135893      8     67     29     65      2      2      8    141     10\n",
      "       0      0      0]\n",
      " [    88     48      0      0      0      0      0      0      0      0\n",
      "       0      0      0]\n",
      " [    30      0   7612      4     69      0      0      0      0      0\n",
      "       0      0      0]\n",
      " [    44      0      0    595      1      0      2      0      0      0\n",
      "       0      0      0]\n",
      " [   117      0     90      0  13613      0      0      0      4      0\n",
      "       0      0      0]\n",
      " [   262      0      0      0      0     50      8      0      0      0\n",
      "       0      0      0]\n",
      " [   118      0      0      0      0      9    241      5      0      0\n",
      "       0      0      0]\n",
      " [     9      0      0      0      0      0      0    454      1      1\n",
      "       0      0      0]\n",
      " [    22      0      1      0      6      3      0      0   9615      2\n",
      "       0      0      0]\n",
      " [    15      0      0      0      0      0      0      0      0    337\n",
      "       0      0      0]\n",
      " [   100      0      0      0      0      0      0      0      0      4\n",
      "       0      0      0]\n",
      " [     1      0      0      0      0      0      0      0      0      1\n",
      "       0      0      0]\n",
      " [    38      0      0      0      0      0      0      0      0      0\n",
      "       0      0      0]]\n"
     ]
    }
   ],
   "source": [
    "model_sf_2.predict(X_test, Y_test)"
   ]
  },
  {
   "cell_type": "code",
   "execution_count": 177,
   "metadata": {},
   "outputs": [
    {
     "name": "stdout",
     "output_type": "stream",
     "text": [
      "Model: \"server_model\"\n",
      "_________________________________________________________________\n",
      " Layer (type)                Output Shape              Param #   \n",
      "=================================================================\n",
      " dense_200 (Dense)           (None, 20)                1580      \n",
      "                                                                 \n",
      " dense_201 (Dense)           (None, 20)                420       \n",
      "                                                                 \n",
      " dense_202 (Dense)           (None, 20)                420       \n",
      "                                                                 \n",
      " dense_203 (Dense)           (None, 15)                315       \n",
      "                                                                 \n",
      "=================================================================\n",
      "Total params: 2,735\n",
      "Trainable params: 2,735\n",
      "Non-trainable params: 0\n",
      "_________________________________________________________________\n"
     ]
    }
   ],
   "source": [
    "model_sf_3 = MulticlassClassification(\n",
    "    78,\n",
    "    [20, 20, 20],\n",
    "    num_classes=15\n",
    ")\n",
    "model_sf_3.model.set_weights(np.mean(\n",
    "        np.array([\n",
    "            model_sf_1.model.get_weights(),\n",
    "            model_sf_2.model.get_weights()\n",
    "        ]),\n",
    "        axis=0\n",
    "    )\n",
    ")"
   ]
  },
  {
   "cell_type": "code",
   "execution_count": 178,
   "metadata": {},
   "outputs": [
    {
     "name": "stdout",
     "output_type": "stream",
     "text": [
      "5308/5308 [==============================] - 10s 2ms/step\n",
      "              precision    recall  f1-score   support\n",
      "\n",
      "           0       0.84      0.98      0.90    136225\n",
      "           1       0.00      0.00      0.00       136\n",
      "           2       0.86      0.13      0.22      7715\n",
      "           3       0.00      0.00      0.00       642\n",
      "           4       0.02      0.00      0.01     13824\n",
      "           5       0.00      0.02      0.00       320\n",
      "           6       0.00      0.00      0.00       373\n",
      "           7       0.00      0.00      0.00       465\n",
      "          10       0.00      0.00      0.00      9649\n",
      "          11       0.00      0.00      0.00       352\n",
      "          12       0.00      0.00      0.00       104\n",
      "          13       0.00      0.00      0.00         2\n",
      "          14       0.00      0.00      0.00        38\n",
      "\n",
      "    accuracy                           0.79    169845\n",
      "   macro avg       0.13      0.09      0.09    169845\n",
      "weighted avg       0.71      0.79      0.73    169845\n",
      "\n",
      "[[133102      0     10      0   2089    369      0      0    655      0\n",
      "       0      0      0]\n",
      " [   136      0      0      0      0      0      0      0      0      0\n",
      "       0      0      0]\n",
      " [  4258      0    965      0      4   2484      0      0      4      0\n",
      "       0      0      0]\n",
      " [   254      0      0      0    282    100      0      0      6      0\n",
      "       0      0      0]\n",
      " [ 10416      0    134      0     49    666      0      0   2559      0\n",
      "       0      0      0]\n",
      " [   311      0      4      0      0      5      0      0      0      0\n",
      "       0      0      0]\n",
      " [   258      0      1      0     69     41      0      0      4      0\n",
      "       0      0      0]\n",
      " [   465      0      0      0      0      0      0      0      0      0\n",
      "       0      0      0]\n",
      " [  9629      0      2      0     17      0      0      0      1      0\n",
      "       0      0      0]\n",
      " [   352      0      0      0      0      0      0      0      0      0\n",
      "       0      0      0]\n",
      " [   104      0      0      0      0      0      0      0      0      0\n",
      "       0      0      0]\n",
      " [     2      0      0      0      0      0      0      0      0      0\n",
      "       0      0      0]\n",
      " [    38      0      0      0      0      0      0      0      0      0\n",
      "       0      0      0]]\n"
     ]
    }
   ],
   "source": [
    "model_sf_3.predict(X_test, Y_test)\n"
   ]
  }
 ],
 "metadata": {
  "kernelspec": {
   "display_name": "Python 3.10.6 64-bit",
   "language": "python",
   "name": "python3"
  },
  "language_info": {
   "codemirror_mode": {
    "name": "ipython",
    "version": 3
   },
   "file_extension": ".py",
   "mimetype": "text/x-python",
   "name": "python",
   "nbconvert_exporter": "python",
   "pygments_lexer": "ipython3",
   "version": "3.10.7"
  },
  "orig_nbformat": 4,
  "vscode": {
   "interpreter": {
    "hash": "e7370f93d1d0cde622a1f8e1c04877d8463912d04d973331ad4851f04de6915a"
   }
  }
 },
 "nbformat": 4,
 "nbformat_minor": 2
}
