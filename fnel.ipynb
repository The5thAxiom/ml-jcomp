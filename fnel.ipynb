{
 "cells": [
  {
   "cell_type": "markdown",
   "metadata": {},
   "source": [
    "# Federated Never Ending Learning"
   ]
  },
  {
   "cell_type": "markdown",
   "metadata": {},
   "source": [
    "## Alignment Layer"
   ]
  },
  {
   "cell_type": "code",
   "execution_count": 1,
   "metadata": {},
   "outputs": [],
   "source": [
    "import pandas as pd\n",
    "import numpy as np\n",
    "import matplotlib.pyplot as plt"
   ]
  },
  {
   "cell_type": "code",
   "execution_count": 2,
   "metadata": {},
   "outputs": [],
   "source": [
    "from sklearn.model_selection import train_test_split\n",
    "from sklearn.metrics import confusion_matrix, classification_report"
   ]
  },
  {
   "cell_type": "code",
   "execution_count": 3,
   "metadata": {},
   "outputs": [
    {
     "name": "stderr",
     "output_type": "stream",
     "text": [
      "2022-11-12 21:29:05.474888: I tensorflow/core/platform/cpu_feature_guard.cc:193] This TensorFlow binary is optimized with oneAPI Deep Neural Network Library (oneDNN) to use the following CPU instructions in performance-critical operations:  AVX2 FMA\n",
      "To enable them in other operations, rebuild TensorFlow with the appropriate compiler flags.\n",
      "2022-11-12 21:29:06.257447: W tensorflow/stream_executor/platform/default/dso_loader.cc:64] Could not load dynamic library 'libcudart.so.11.0'; dlerror: libcudart.so.11.0: cannot open shared object file: No such file or directory; LD_LIBRARY_PATH: /usr/lib64/openmpi/lib\n",
      "2022-11-12 21:29:06.257520: I tensorflow/stream_executor/cuda/cudart_stub.cc:29] Ignore above cudart dlerror if you do not have a GPU set up on your machine.\n",
      "2022-11-12 21:29:06.350479: E tensorflow/stream_executor/cuda/cuda_blas.cc:2981] Unable to register cuBLAS factory: Attempting to register factory for plugin cuBLAS when one has already been registered\n",
      "2022-11-12 21:29:08.819562: W tensorflow/stream_executor/platform/default/dso_loader.cc:64] Could not load dynamic library 'libnvinfer.so.7'; dlerror: libnvinfer.so.7: cannot open shared object file: No such file or directory; LD_LIBRARY_PATH: /usr/lib64/openmpi/lib\n",
      "2022-11-12 21:29:08.820652: W tensorflow/stream_executor/platform/default/dso_loader.cc:64] Could not load dynamic library 'libnvinfer_plugin.so.7'; dlerror: libnvinfer_plugin.so.7: cannot open shared object file: No such file or directory; LD_LIBRARY_PATH: /usr/lib64/openmpi/lib\n",
      "2022-11-12 21:29:08.822367: W tensorflow/compiler/tf2tensorrt/utils/py_utils.cc:38] TF-TRT Warning: Cannot dlopen some TensorRT libraries. If you would like to use Nvidia GPU with TensorRT, please make sure the missing libraries mentioned above are installed properly.\n"
     ]
    }
   ],
   "source": [
    "from tensorflow import keras\n",
    "from keras.models import Sequential\n",
    "from keras.layers import Dense"
   ]
  },
  {
   "cell_type": "code",
   "execution_count": 4,
   "metadata": {},
   "outputs": [],
   "source": [
    "df = pd.read_csv('datasets/CICIDS_test.csv', skipinitialspace=True)"
   ]
  },
  {
   "cell_type": "code",
   "execution_count": 5,
   "metadata": {},
   "outputs": [],
   "source": [
    "from sklearn.preprocessing import MinMaxScaler, Normalizer\n",
    "# from keras.utils import to_categorical\n",
    "\n",
    "# # removing any class with less than 'thresh' samples\n",
    "# thresh = 1000\n",
    "# counts = df[['Label']].value_counts().to_dict()\n",
    "# keep = [x[0] for x in counts if counts[x] >= thresh]\n",
    "# df = df.loc[df['Label'].isin(keep)]\n",
    "\n",
    "\n",
    "X = df.loc[:, df.columns != 'Label']\n",
    "X = Normalizer().fit_transform(X)\n",
    "X = MinMaxScaler().fit_transform(X)\n",
    "Y = df[['Label']].to_numpy()"
   ]
  },
  {
   "cell_type": "code",
   "execution_count": 6,
   "metadata": {},
   "outputs": [
    {
     "name": "stdout",
     "output_type": "stream",
     "text": [
      "(566149, 78)\n",
      "(566149, 1)\n",
      "15\n"
     ]
    },
    {
     "data": {
      "text/plain": [
       "0     454620\n",
       "4      46215\n",
       "10     31786\n",
       "2      25606\n",
       "3       2059\n",
       "7       1588\n",
       "11      1179\n",
       "6       1159\n",
       "5       1100\n",
       "1        393\n",
       "12       301\n",
       "14       130\n",
       "9          7\n",
       "13         4\n",
       "8          2\n",
       "dtype: int64"
      ]
     },
     "execution_count": 6,
     "metadata": {},
     "output_type": "execute_result"
    }
   ],
   "source": [
    "print(X.shape)\n",
    "print(Y.shape)\n",
    "print(len(np.unique(Y)))\n",
    "pd.value_counts(Y.ravel())"
   ]
  },
  {
   "cell_type": "markdown",
   "metadata": {},
   "source": [
    "## Non-Federated"
   ]
  },
  {
   "cell_type": "code",
   "execution_count": 7,
   "metadata": {},
   "outputs": [
    {
     "name": "stdout",
     "output_type": "stream",
     "text": [
      "(396304, 78)\n",
      "(396304, 1)\n",
      "[ 0  1  2  3  4  5  6  7  8  9 10 11 12 13 14]\n",
      "0     318395\n",
      "4      32391\n",
      "10     22137\n",
      "2      17891\n",
      "3       1417\n",
      "7       1123\n",
      "11       827\n",
      "6        786\n",
      "5        780\n",
      "1        257\n",
      "12       197\n",
      "14        92\n",
      "9          7\n",
      "13         2\n",
      "8          2\n",
      "dtype: int64\n",
      "(169845, 78)\n",
      "(169845, 1)\n",
      "[ 0  1  2  3  4  5  6  7 10 11 12 13 14]\n",
      "0     136225\n",
      "4      13824\n",
      "10      9649\n",
      "2       7715\n",
      "3        642\n",
      "7        465\n",
      "6        373\n",
      "11       352\n",
      "5        320\n",
      "1        136\n",
      "12       104\n",
      "14        38\n",
      "13         2\n",
      "dtype: int64\n"
     ]
    }
   ],
   "source": [
    "X_train, X_test, Y_train, Y_test = train_test_split(X, Y, train_size=0.7, random_state=1)\n",
    "\n",
    "print(X_train.shape)\n",
    "print(Y_train.shape)\n",
    "print(np.unique(Y_train))\n",
    "print(pd.value_counts(Y_train.ravel()))\n",
    "\n",
    "print(X_test.shape)\n",
    "print(Y_test.shape)\n",
    "print(np.unique(Y_test))\n",
    "print(pd.value_counts(Y_test.ravel()))"
   ]
  },
  {
   "cell_type": "markdown",
   "metadata": {},
   "source": [
    "### Binary Classification into Benign/Malicious"
   ]
  },
  {
   "cell_type": "code",
   "execution_count": 42,
   "metadata": {},
   "outputs": [],
   "source": [
    "class BinaryClassification:\n",
    "    def __init__(self, input_dims, layers):\n",
    "        self.model = Sequential(name=\"server_model\")\n",
    "        self.model.add(Dense(\n",
    "            layers[0],\n",
    "            input_shape=(input_dims,),\n",
    "            activation='relu'\n",
    "        ))\n",
    "        for l in layers[1:]:\n",
    "            self.model.add(Dense(l, activation='relu'))\n",
    "        self.model.add(Dense(1, activation='sigmoid'))\n",
    "        self.model.compile(\n",
    "            loss='binary_crossentropy',\n",
    "            optimizer='adam',\n",
    "            metrics=['accuracy', ]\n",
    "        )\n",
    "        self.model.summary()\n",
    "    \n",
    "    def fit(self, X, Y, epochs, batch_size):\n",
    "        Y_bin = np.asarray([\n",
    "            0 if y == 0 else 1 for y in Y.ravel()\n",
    "        ]).reshape(-1, 1)\n",
    "        # print(Y_bin.shape)\n",
    "        # print(pd.value_counts(Y_bin.ravel()))\n",
    "        self.model.fit(X, Y_bin, epochs=epochs, batch_size=batch_size)\n",
    "\n",
    "    def predict(self, X, Y):\n",
    "        Y_bin = np.asarray([\n",
    "            0 if y == 0 else 1 for y in Y.ravel()\n",
    "        ]).reshape(-1, 1)\n",
    "        print(pd.value_counts(Y_bin.ravel()))\n",
    "        \n",
    "        preds = self.model.predict(X)\n",
    "        preds = np.where(preds > 0.5, 1, 0)\n",
    "\n",
    "        print(Y_bin.shape)\n",
    "        print(preds.shape)\n",
    "        print(classification_report(Y_bin, preds))\n",
    "        print(confusion_matrix(Y_bin, preds))"
   ]
  },
  {
   "cell_type": "code",
   "execution_count": 25,
   "metadata": {},
   "outputs": [
    {
     "name": "stdout",
     "output_type": "stream",
     "text": [
      "Model: \"server_model\"\n",
      "_________________________________________________________________\n",
      " Layer (type)                Output Shape              Param #   \n",
      "=================================================================\n",
      " dense_18 (Dense)            (None, 20)                1580      \n",
      "                                                                 \n",
      " dense_19 (Dense)            (None, 20)                420       \n",
      "                                                                 \n",
      " dense_20 (Dense)            (None, 20)                420       \n",
      "                                                                 \n",
      " dense_21 (Dense)            (None, 1)                 21        \n",
      "                                                                 \n",
      "=================================================================\n",
      "Total params: 2,441\n",
      "Trainable params: 2,441\n",
      "Non-trainable params: 0\n",
      "_________________________________________________________________\n",
      "(396304, 1)\n",
      "0    318395\n",
      "1     77909\n",
      "dtype: int64\n",
      "12385/12385 [==============================] - 40s 3ms/step - loss: 0.1030 - accuracy: 0.9614\n",
      "(169845, 1)\n",
      "0    136225\n",
      "1     33620\n",
      "dtype: int64\n",
      "5308/5308 [==============================] - 15s 3ms/step\n",
      "              precision    recall  f1-score   support\n",
      "\n",
      "           0       0.99      0.99      0.99    136225\n",
      "           1       0.97      0.95      0.96     33620\n",
      "\n",
      "    accuracy                           0.98    169845\n",
      "   macro avg       0.98      0.97      0.97    169845\n",
      "weighted avg       0.98      0.98      0.98    169845\n",
      "\n",
      "[[135138   1087]\n",
      " [  1767  31853]]\n"
     ]
    }
   ],
   "source": [
    "model_binary = BinaryClassification(\n",
    "    input_dims=78,\n",
    "    layers=[20, 20, 20]\n",
    ")\n",
    "model_binary.fit(X_train, Y_train, epochs=1, batch_size=32)"
   ]
  },
  {
   "cell_type": "code",
   "execution_count": 26,
   "metadata": {},
   "outputs": [
    {
     "name": "stdout",
     "output_type": "stream",
     "text": [
      "(169845, 1)\n",
      "0    136225\n",
      "1     33620\n",
      "dtype: int64\n",
      "5308/5308 [==============================] - 13s 2ms/step\n",
      "              precision    recall  f1-score   support\n",
      "\n",
      "           0       0.99      0.99      0.99    136225\n",
      "           1       0.97      0.95      0.96     33620\n",
      "\n",
      "    accuracy                           0.98    169845\n",
      "   macro avg       0.98      0.97      0.97    169845\n",
      "weighted avg       0.98      0.98      0.98    169845\n",
      "\n",
      "[[135138   1087]\n",
      " [  1767  31853]]\n"
     ]
    }
   ],
   "source": [
    "model_binary.predict(X_test, Y_test)"
   ]
  },
  {
   "cell_type": "markdown",
   "metadata": {},
   "source": [
    "### SoftMax A"
   ]
  },
  {
   "cell_type": "code",
   "execution_count": 50,
   "metadata": {},
   "outputs": [],
   "source": [
    "class MulticlassClassification:\n",
    "    def __init__(self, input_dims, layers, num_classes):\n",
    "        self.model = Sequential(name=\"server_model\")\n",
    "        self.model.add(Dense(\n",
    "            layers[0],\n",
    "            input_shape=(input_dims,),\n",
    "            activation='relu'\n",
    "        ))\n",
    "        for l in layers[1:]:\n",
    "            self.model.add(Dense(l, activation='relu'))\n",
    "        self.model.add(Dense(num_classes, activation='softmax'))\n",
    "        self.model.compile(\n",
    "            loss='sparse_categorical_crossentropy',\n",
    "            optimizer='adam',\n",
    "            metrics=['accuracy']\n",
    "        )\n",
    "        self.model.summary()\n",
    "    \n",
    "    def fit(self, X, Y, epochs, batch_size):\n",
    "        print(pd.value_counts(Y.ravel()))\n",
    "        self.model.fit(X, Y.ravel(), epochs=epochs, batch_size=batch_size)\n",
    "\n",
    "    def predict(self, X, Y):\n",
    "        print(pd.value_counts(Y.ravel()))\n",
    "        \n",
    "        preds = self.model.predict(X)\n",
    "        preds = [np.argmax(p) for p in preds]\n",
    "        \n",
    "        print(classification_report(Y, preds))\n",
    "        print(confusion_matrix(Y, preds))"
   ]
  },
  {
   "cell_type": "code",
   "execution_count": 30,
   "metadata": {},
   "outputs": [
    {
     "name": "stdout",
     "output_type": "stream",
     "text": [
      "Model: \"server_model\"\n",
      "_________________________________________________________________\n",
      " Layer (type)                Output Shape              Param #   \n",
      "=================================================================\n",
      " dense_26 (Dense)            (None, 20)                1580      \n",
      "                                                                 \n",
      " dense_27 (Dense)            (None, 20)                420       \n",
      "                                                                 \n",
      " dense_28 (Dense)            (None, 20)                420       \n",
      "                                                                 \n",
      " dense_29 (Dense)            (None, 15)                315       \n",
      "                                                                 \n",
      "=================================================================\n",
      "Total params: 2,735\n",
      "Trainable params: 2,735\n",
      "Non-trainable params: 0\n",
      "_________________________________________________________________\n",
      "0     318395\n",
      "4      32391\n",
      "10     22137\n",
      "2      17891\n",
      "3       1417\n",
      "7       1123\n",
      "11       827\n",
      "6        786\n",
      "5        780\n",
      "1        257\n",
      "12       197\n",
      "14        92\n",
      "9          7\n",
      "13         2\n",
      "8          2\n",
      "dtype: int64\n",
      "12385/12385 [==============================] - 36s 3ms/step - loss: 0.1808 - accuracy: 0.9445\n"
     ]
    }
   ],
   "source": [
    "model_sf = MulticlassClassification(\n",
    "    input_dims=78,\n",
    "    layers=[20, 20, 20],\n",
    "    num_classes=15\n",
    ")\n",
    "model_sf.fit(X_train, Y_train, epochs=1, batch_size=32)"
   ]
  },
  {
   "cell_type": "code",
   "execution_count": 31,
   "metadata": {},
   "outputs": [
    {
     "name": "stdout",
     "output_type": "stream",
     "text": [
      "0     136225\n",
      "4      13824\n",
      "10      9649\n",
      "2       7715\n",
      "3        642\n",
      "7        465\n",
      "6        373\n",
      "11       352\n",
      "5        320\n",
      "1        136\n",
      "12       104\n",
      "14        38\n",
      "13         2\n",
      "dtype: int64\n",
      "5308/5308 [==============================] - 9s 2ms/step\n"
     ]
    },
    {
     "name": "stderr",
     "output_type": "stream",
     "text": [
      "/home/sam/.local/lib/python3.10/site-packages/sklearn/metrics/_classification.py:1334: UndefinedMetricWarning: Precision and F-score are ill-defined and being set to 0.0 in labels with no predicted samples. Use `zero_division` parameter to control this behavior.\n",
      "  _warn_prf(average, modifier, msg_start, len(result))\n",
      "/home/sam/.local/lib/python3.10/site-packages/sklearn/metrics/_classification.py:1334: UndefinedMetricWarning: Precision and F-score are ill-defined and being set to 0.0 in labels with no predicted samples. Use `zero_division` parameter to control this behavior.\n",
      "  _warn_prf(average, modifier, msg_start, len(result))\n",
      "/home/sam/.local/lib/python3.10/site-packages/sklearn/metrics/_classification.py:1334: UndefinedMetricWarning: Precision and F-score are ill-defined and being set to 0.0 in labels with no predicted samples. Use `zero_division` parameter to control this behavior.\n",
      "  _warn_prf(average, modifier, msg_start, len(result))\n"
     ]
    },
    {
     "name": "stdout",
     "output_type": "stream",
     "text": [
      "              precision    recall  f1-score   support\n",
      "\n",
      "           0       0.99      0.99      0.99    136225\n",
      "           1       0.00      0.00      0.00       136\n",
      "           2       0.92      0.94      0.93      7715\n",
      "           3       0.93      0.63      0.75       642\n",
      "           4       0.91      0.97      0.94     13824\n",
      "           5       0.76      0.52      0.62       320\n",
      "           6       0.94      0.29      0.44       373\n",
      "           7       0.92      0.80      0.86       465\n",
      "          10       0.98      0.94      0.96      9649\n",
      "          11       0.82      0.96      0.88       352\n",
      "          12       0.00      0.00      0.00       104\n",
      "          13       0.00      0.00      0.00         2\n",
      "          14       0.00      0.00      0.00        38\n",
      "\n",
      "    accuracy                           0.98    169845\n",
      "   macro avg       0.63      0.54      0.57    169845\n",
      "weighted avg       0.97      0.98      0.97    169845\n",
      "\n",
      "[[134528      0    258     20   1094     42      0     12    207     64\n",
      "       0      0      0]\n",
      " [   136      0      0      0      0      0      0      0      0      0\n",
      "       0      0      0]\n",
      " [   282      0   7275      4    146      8      0      0      0      0\n",
      "       0      0      0]\n",
      " [   179      0     47    402     11      1      2      0      0      0\n",
      "       0      0      0]\n",
      " [   107      0    286      4  13427      0      0      0      0      0\n",
      "       0      0      0]\n",
      " [   141      0      7      0      2    165      5      0      0      0\n",
      "       0      0      0]\n",
      " [   238      0      0      0      0      0    108     20      7      0\n",
      "       0      0      0]\n",
      " [    92      0      0      0      0      0      0    372      0      1\n",
      "       0      0      0]\n",
      " [   554      0      0      0      5      0      0      0   9089      1\n",
      "       0      0      0]\n",
      " [    12      0      0      0      1      0      0      1      1    337\n",
      "       0      0      0]\n",
      " [    98      0      0      0      0      0      0      0      0      6\n",
      "       0      0      0]\n",
      " [     1      0      0      0      0      0      0      0      0      1\n",
      "       0      0      0]\n",
      " [    38      0      0      0      0      0      0      0      0      0\n",
      "       0      0      0]]\n"
     ]
    }
   ],
   "source": [
    "model_sf.predict(X_test, Y_test)"
   ]
  },
  {
   "cell_type": "markdown",
   "metadata": {},
   "source": [
    "## Anomaly Detection Using Isolation Forest"
   ]
  },
  {
   "cell_type": "markdown",
   "metadata": {},
   "source": [
    "## Federated Learning"
   ]
  },
  {
   "cell_type": "code",
   "execution_count": 34,
   "metadata": {},
   "outputs": [],
   "source": [
    "X_1, X_2, Y_1, Y_2 = train_test_split(X, Y, train_size=0.5, random_state=1)"
   ]
  },
  {
   "cell_type": "code",
   "execution_count": 35,
   "metadata": {},
   "outputs": [
    {
     "name": "stdout",
     "output_type": "stream",
     "text": [
      "(283074, 78)\n",
      "(283074, 1)\n",
      "[ 0  1  2  3  4  5  6  7  8  9 10 11 12 13 14]\n",
      "0     227375\n",
      "4      23136\n",
      "10     15862\n",
      "2      12759\n",
      "3       1016\n",
      "7        802\n",
      "11       595\n",
      "5        575\n",
      "6        560\n",
      "1        178\n",
      "12       138\n",
      "14        68\n",
      "9          7\n",
      "8          2\n",
      "13         1\n",
      "dtype: int64\n",
      "(283075, 78)\n",
      "(283075, 1)\n",
      "[ 0  1  2  3  4  5  6  7 10 11 12 13 14]\n",
      "0     227245\n",
      "4      23079\n",
      "10     15924\n",
      "2      12847\n",
      "3       1043\n",
      "7        786\n",
      "6        599\n",
      "11       584\n",
      "5        525\n",
      "1        215\n",
      "12       163\n",
      "14        62\n",
      "13         3\n",
      "dtype: int64\n"
     ]
    }
   ],
   "source": [
    "print(X_1.shape)\n",
    "print(Y_1.shape)\n",
    "print(np.unique(Y_1))\n",
    "print(pd.value_counts(Y_1.ravel()))\n",
    "print(X_2.shape)\n",
    "print(Y_2.shape)\n",
    "print(np.unique(Y_2))\n",
    "print(pd.value_counts(Y_2.ravel()))"
   ]
  },
  {
   "cell_type": "code",
   "execution_count": 36,
   "metadata": {},
   "outputs": [],
   "source": [
    "X_1_train, X_1_test, Y_1_train, Y_1_test = train_test_split(X_1, Y_1, train_size=0.7, random_state=1)\n",
    "X_2_train, X_2_test, Y_2_train, Y_2_test = train_test_split(X_2, Y_2, train_size=0.7, random_state=1)"
   ]
  },
  {
   "cell_type": "code",
   "execution_count": 37,
   "metadata": {},
   "outputs": [
    {
     "name": "stdout",
     "output_type": "stream",
     "text": [
      "(198151, 78)\n",
      "(198151, 1)\n",
      "[ 0  1  2  3  4  5  6  7  8  9 10 11 12 13 14]\n",
      "(84923, 78)\n",
      "(84923, 1)\n",
      "[ 0  1  2  3  4  5  6  7  8  9 10 11 12 14]\n",
      "(198152, 78)\n",
      "(198152, 1)\n",
      "[ 0  1  2  3  4  5  6  7 10 11 12 13 14]\n",
      "(84923, 78)\n",
      "(84923, 1)\n",
      "[ 0  1  2  3  4  5  6  7 10 11 12 14]\n"
     ]
    }
   ],
   "source": [
    "print(X_1_train.shape)\n",
    "print(Y_1_train.shape)\n",
    "print(np.unique(Y_1_train))\n",
    "# print(np.isnan(X_1_train).any())\n",
    "# print(np.isnan(Y_1_train).any())\n",
    "\n",
    "print(X_1_test.shape)\n",
    "print(Y_1_test.shape)\n",
    "print(np.unique(Y_1_test))\n",
    "\n",
    "print(X_2_train.shape)\n",
    "print(Y_2_train.shape)\n",
    "print(np.unique(Y_2_train))\n",
    "\n",
    "print(X_2_test.shape)\n",
    "print(Y_2_test.shape)\n",
    "print(np.unique(Y_2_test))"
   ]
  },
  {
   "cell_type": "markdown",
   "metadata": {},
   "source": [
    "### Binary Classification"
   ]
  },
  {
   "cell_type": "code",
   "execution_count": 43,
   "metadata": {},
   "outputs": [
    {
     "name": "stdout",
     "output_type": "stream",
     "text": [
      "Model: \"server_model\"\n",
      "_________________________________________________________________\n",
      " Layer (type)                Output Shape              Param #   \n",
      "=================================================================\n",
      " dense_46 (Dense)            (None, 20)                1580      \n",
      "                                                                 \n",
      " dense_47 (Dense)            (None, 20)                420       \n",
      "                                                                 \n",
      " dense_48 (Dense)            (None, 20)                420       \n",
      "                                                                 \n",
      " dense_49 (Dense)            (None, 1)                 21        \n",
      "                                                                 \n",
      "=================================================================\n",
      "Total params: 2,441\n",
      "Trainable params: 2,441\n",
      "Non-trainable params: 0\n",
      "_________________________________________________________________\n",
      "6193/6193 [==============================] - 19s 3ms/step - loss: 0.1341 - accuracy: 0.9461\n",
      "0    68256\n",
      "1    16667\n",
      "dtype: int64\n",
      "2654/2654 [==============================] - 6s 2ms/step\n",
      "(84923, 1)\n",
      "(84923, 1)\n",
      "              precision    recall  f1-score   support\n",
      "\n",
      "           0       0.98      0.99      0.99     68256\n",
      "           1       0.96      0.92      0.94     16667\n",
      "\n",
      "    accuracy                           0.98     84923\n",
      "   macro avg       0.97      0.96      0.96     84923\n",
      "weighted avg       0.98      0.98      0.98     84923\n",
      "\n",
      "[[67603   653]\n",
      " [ 1275 15392]]\n"
     ]
    }
   ],
   "source": [
    "model_1 = BinaryClassification(78, [20, 20, 20])\n",
    "model_1.fit(X_1_train, Y_1_train, epochs=1, batch_size=32)\n",
    "model_1.predict(X_1_test, Y_1_test)"
   ]
  },
  {
   "cell_type": "code",
   "execution_count": 46,
   "metadata": {},
   "outputs": [
    {
     "name": "stdout",
     "output_type": "stream",
     "text": [
      "Model: \"server_model\"\n",
      "_________________________________________________________________\n",
      " Layer (type)                Output Shape              Param #   \n",
      "=================================================================\n",
      " dense_58 (Dense)            (None, 20)                1580      \n",
      "                                                                 \n",
      " dense_59 (Dense)            (None, 20)                420       \n",
      "                                                                 \n",
      " dense_60 (Dense)            (None, 20)                420       \n",
      "                                                                 \n",
      " dense_61 (Dense)            (None, 1)                 21        \n",
      "                                                                 \n",
      "=================================================================\n",
      "Total params: 2,441\n",
      "Trainable params: 2,441\n",
      "Non-trainable params: 0\n",
      "_________________________________________________________________\n",
      "6193/6193 [==============================] - 17s 3ms/step - loss: 0.1423 - accuracy: 0.9438\n",
      "0    67980\n",
      "1    16943\n",
      "dtype: int64\n",
      "2654/2654 [==============================] - 6s 2ms/step\n",
      "(84923, 1)\n",
      "(84923, 1)\n",
      "              precision    recall  f1-score   support\n",
      "\n",
      "           0       0.98      0.98      0.98     67980\n",
      "           1       0.93      0.91      0.92     16943\n",
      "\n",
      "    accuracy                           0.97     84923\n",
      "   macro avg       0.95      0.95      0.95     84923\n",
      "weighted avg       0.97      0.97      0.97     84923\n",
      "\n",
      "[[66789  1191]\n",
      " [ 1541 15402]]\n"
     ]
    }
   ],
   "source": [
    "model_2 = BinaryClassification(78, [20, 20, 20])\n",
    "model_2.fit(X_2_train, Y_2_train, epochs=1, batch_size=32)\n",
    "model_2.predict(X_2_test, Y_2_test)"
   ]
  },
  {
   "cell_type": "code",
   "execution_count": 49,
   "metadata": {},
   "outputs": [
    {
     "name": "stdout",
     "output_type": "stream",
     "text": [
      "Model: \"server_model\"\n",
      "_________________________________________________________________\n",
      " Layer (type)                Output Shape              Param #   \n",
      "=================================================================\n",
      " dense_70 (Dense)            (None, 20)                1580      \n",
      "                                                                 \n",
      " dense_71 (Dense)            (None, 20)                420       \n",
      "                                                                 \n",
      " dense_72 (Dense)            (None, 20)                420       \n",
      "                                                                 \n",
      " dense_73 (Dense)            (None, 1)                 21        \n",
      "                                                                 \n",
      "=================================================================\n",
      "Total params: 2,441\n",
      "Trainable params: 2,441\n",
      "Non-trainable params: 0\n",
      "_________________________________________________________________\n",
      "0    68256\n",
      "1    16667\n",
      "dtype: int64\n"
     ]
    },
    {
     "name": "stderr",
     "output_type": "stream",
     "text": [
      "/tmp/ipykernel_125746/1243486425.py:3: VisibleDeprecationWarning: Creating an ndarray from ragged nested sequences (which is a list-or-tuple of lists-or-tuples-or ndarrays with different lengths or shapes) is deprecated. If you meant to do this, you must specify 'dtype=object' when creating the ndarray.\n",
      "  np.array([\n"
     ]
    },
    {
     "name": "stdout",
     "output_type": "stream",
     "text": [
      "2654/2654 [==============================] - 7s 3ms/step\n",
      "(84923, 1)\n",
      "(84923, 1)\n",
      "              precision    recall  f1-score   support\n",
      "\n",
      "           0       0.91      0.93      0.92     68256\n",
      "           1       0.68      0.61      0.64     16667\n",
      "\n",
      "    accuracy                           0.87     84923\n",
      "   macro avg       0.79      0.77      0.78     84923\n",
      "weighted avg       0.86      0.87      0.86     84923\n",
      "\n",
      "[[63449  4807]\n",
      " [ 6478 10189]]\n"
     ]
    }
   ],
   "source": [
    "model_3 = BinaryClassification(78, [20, 20, 20])\n",
    "model_3.model.set_weights(np.mean(\n",
    "        np.array([\n",
    "            model_1.model.get_weights(),\n",
    "            model_2.model.get_weights()\n",
    "        ]),\n",
    "        axis=0\n",
    "    )\n",
    ")\n",
    "model_3.predict(X_1_test, Y_1_test)"
   ]
  },
  {
   "cell_type": "markdown",
   "metadata": {},
   "source": [
    "### Multiclass Classification"
   ]
  },
  {
   "cell_type": "code",
   "execution_count": 51,
   "metadata": {},
   "outputs": [
    {
     "name": "stdout",
     "output_type": "stream",
     "text": [
      "Model: \"server_model\"\n",
      "_________________________________________________________________\n",
      " Layer (type)                Output Shape              Param #   \n",
      "=================================================================\n",
      " dense_74 (Dense)            (None, 20)                1580      \n",
      "                                                                 \n",
      " dense_75 (Dense)            (None, 20)                420       \n",
      "                                                                 \n",
      " dense_76 (Dense)            (None, 20)                420       \n",
      "                                                                 \n",
      " dense_77 (Dense)            (None, 15)                315       \n",
      "                                                                 \n",
      "=================================================================\n",
      "Total params: 2,735\n",
      "Trainable params: 2,735\n",
      "Non-trainable params: 0\n",
      "_________________________________________________________________\n",
      "0     159119\n",
      "4      16268\n",
      "10     11038\n",
      "2       8969\n",
      "3        708\n",
      "7        550\n",
      "11       436\n",
      "6        393\n",
      "5        388\n",
      "1        129\n",
      "12        97\n",
      "14        49\n",
      "9          5\n",
      "8          1\n",
      "13         1\n",
      "dtype: int64\n",
      "6193/6193 [==============================] - 21s 3ms/step - loss: 0.2426 - accuracy: 0.9273\n",
      "0     68256\n",
      "4      6868\n",
      "10     4824\n",
      "2      3790\n",
      "3       308\n",
      "7       252\n",
      "5       187\n",
      "6       167\n",
      "11      159\n",
      "1        49\n",
      "12       41\n",
      "14       19\n",
      "9         2\n",
      "8         1\n",
      "dtype: int64\n",
      "2654/2654 [==============================] - 6s 2ms/step\n",
      "              precision    recall  f1-score   support\n",
      "\n",
      "           0       0.97      0.99      0.98     68256\n",
      "           1       0.00      0.00      0.00        49\n",
      "           2       0.90      0.87      0.89      3790\n",
      "           3       0.00      0.00      0.00       308\n",
      "           4       0.92      0.92      0.92      6868\n",
      "           5       0.00      0.00      0.00       187\n",
      "           6       0.00      0.00      0.00       167\n",
      "           7       0.94      0.48      0.64       252\n",
      "           8       0.00      0.00      0.00         1\n",
      "           9       0.00      0.00      0.00         2\n",
      "          10       0.99      0.91      0.95      4824\n",
      "          11       0.00      0.00      0.00       159\n",
      "          12       0.00      0.00      0.00        41\n",
      "          14       0.00      0.00      0.00        19\n",
      "\n",
      "    accuracy                           0.96     84923\n",
      "   macro avg       0.34      0.30      0.31     84923\n",
      "weighted avg       0.95      0.96      0.96     84923\n",
      "\n",
      "[[67636     0   220     0   343     0     0     2     0     0    55     0\n",
      "      0     0]\n",
      " [   49     0     0     0     0     0     0     0     0     0     0     0\n",
      "      0     0]\n",
      " [  278     0  3315     0   197     0     0     0     0     0     0     0\n",
      "      0     0]\n",
      " [  301     0     3     0     4     0     0     0     0     0     0     0\n",
      "      0     0]\n",
      " [  400     0   138     0  6328     0     0     0     0     0     2     0\n",
      "      0     0]\n",
      " [  182     0     3     0     2     0     0     0     0     0     0     0\n",
      "      0     0]\n",
      " [  161     0     0     0     0     0     0     6     0     0     0     0\n",
      "      0     0]\n",
      " [  131     0     0     0     0     0     0   121     0     0     0     0\n",
      "      0     0]\n",
      " [    1     0     0     0     0     0     0     0     0     0     0     0\n",
      "      0     0]\n",
      " [    2     0     0     0     0     0     0     0     0     0     0     0\n",
      "      0     0]\n",
      " [  408     0     2     0     4     0     0     0     0     0  4410     0\n",
      "      0     0]\n",
      " [  158     0     0     0     0     0     0     0     0     0     1     0\n",
      "      0     0]\n",
      " [   41     0     0     0     0     0     0     0     0     0     0     0\n",
      "      0     0]\n",
      " [   19     0     0     0     0     0     0     0     0     0     0     0\n",
      "      0     0]]\n"
     ]
    },
    {
     "name": "stderr",
     "output_type": "stream",
     "text": [
      "/home/sam/.local/lib/python3.10/site-packages/sklearn/metrics/_classification.py:1334: UndefinedMetricWarning: Precision and F-score are ill-defined and being set to 0.0 in labels with no predicted samples. Use `zero_division` parameter to control this behavior.\n",
      "  _warn_prf(average, modifier, msg_start, len(result))\n",
      "/home/sam/.local/lib/python3.10/site-packages/sklearn/metrics/_classification.py:1334: UndefinedMetricWarning: Precision and F-score are ill-defined and being set to 0.0 in labels with no predicted samples. Use `zero_division` parameter to control this behavior.\n",
      "  _warn_prf(average, modifier, msg_start, len(result))\n",
      "/home/sam/.local/lib/python3.10/site-packages/sklearn/metrics/_classification.py:1334: UndefinedMetricWarning: Precision and F-score are ill-defined and being set to 0.0 in labels with no predicted samples. Use `zero_division` parameter to control this behavior.\n",
      "  _warn_prf(average, modifier, msg_start, len(result))\n"
     ]
    }
   ],
   "source": [
    "model_sf_1 = MulticlassClassification(\n",
    "    78,\n",
    "    [20, 20, 20],\n",
    "    num_classes=15\n",
    ")\n",
    "model_sf_1.fit(X_1_train, Y_1_train, epochs=1, batch_size=32)\n",
    "model_sf_1.predict(X_1_test, Y_1_test)"
   ]
  },
  {
   "cell_type": "code",
   "execution_count": 52,
   "metadata": {},
   "outputs": [
    {
     "name": "stdout",
     "output_type": "stream",
     "text": [
      "Model: \"server_model\"\n",
      "_________________________________________________________________\n",
      " Layer (type)                Output Shape              Param #   \n",
      "=================================================================\n",
      " dense_78 (Dense)            (None, 20)                1580      \n",
      "                                                                 \n",
      " dense_79 (Dense)            (None, 20)                420       \n",
      "                                                                 \n",
      " dense_80 (Dense)            (None, 20)                420       \n",
      "                                                                 \n",
      " dense_81 (Dense)            (None, 15)                315       \n",
      "                                                                 \n",
      "=================================================================\n",
      "Total params: 2,735\n",
      "Trainable params: 2,735\n",
      "Non-trainable params: 0\n",
      "_________________________________________________________________\n",
      "0     159265\n",
      "4      16106\n",
      "10     11074\n",
      "2       8919\n",
      "3        753\n",
      "7        534\n",
      "11       415\n",
      "6        406\n",
      "5        368\n",
      "1        152\n",
      "12       117\n",
      "14        40\n",
      "13         3\n",
      "dtype: int64\n",
      "6193/6193 [==============================] - 17s 3ms/step - loss: 0.2410 - accuracy: 0.9267\n",
      "0     67980\n",
      "4      6973\n",
      "10     4850\n",
      "2      3928\n",
      "3       290\n",
      "7       252\n",
      "6       193\n",
      "11      169\n",
      "5       157\n",
      "1        63\n",
      "12       46\n",
      "14       22\n",
      "dtype: int64\n",
      "2654/2654 [==============================] - 5s 2ms/step\n",
      "              precision    recall  f1-score   support\n",
      "\n",
      "           0       0.97      0.99      0.98     67980\n",
      "           1       0.00      0.00      0.00        63\n",
      "           2       0.90      0.90      0.90      3928\n",
      "           3       0.84      0.42      0.56       290\n",
      "           4       0.92      0.94      0.93      6973\n",
      "           5       0.00      0.00      0.00       157\n",
      "           6       0.00      0.00      0.00       193\n",
      "           7       0.00      0.00      0.00       252\n",
      "          10       0.95      0.93      0.94      4850\n",
      "          11       0.00      0.00      0.00       169\n",
      "          12       0.00      0.00      0.00        46\n",
      "          14       0.00      0.00      0.00        22\n",
      "\n",
      "    accuracy                           0.96     84923\n",
      "   macro avg       0.38      0.35      0.36     84923\n",
      "weighted avg       0.95      0.96      0.96     84923\n",
      "\n",
      "[[67037     0   231    14   461     0     0     2   235     0     0     0]\n",
      " [   63     0     0     0     0     0     0     0     0     0     0     0]\n",
      " [  256     0  3548     4   120     0     0     0     0     0     0     0]\n",
      " [  164     0     3   121     2     0     0     0     0     0     0     0]\n",
      " [  241     0   158     5  6569     0     0     0     0     0     0     0]\n",
      " [  150     0     6     0     1     0     0     0     0     0     0     0]\n",
      " [  191     0     0     0     0     0     0     0     2     0     0     0]\n",
      " [  217     0     0     0     0     0     0     0     1    34     0     0]\n",
      " [  351     0     0     0     2     0     0     0  4497     0     0     0]\n",
      " [  168     0     0     0     1     0     0     0     0     0     0     0]\n",
      " [   46     0     0     0     0     0     0     0     0     0     0     0]\n",
      " [   22     0     0     0     0     0     0     0     0     0     0     0]]\n"
     ]
    },
    {
     "name": "stderr",
     "output_type": "stream",
     "text": [
      "/home/sam/.local/lib/python3.10/site-packages/sklearn/metrics/_classification.py:1334: UndefinedMetricWarning: Precision and F-score are ill-defined and being set to 0.0 in labels with no predicted samples. Use `zero_division` parameter to control this behavior.\n",
      "  _warn_prf(average, modifier, msg_start, len(result))\n",
      "/home/sam/.local/lib/python3.10/site-packages/sklearn/metrics/_classification.py:1334: UndefinedMetricWarning: Precision and F-score are ill-defined and being set to 0.0 in labels with no predicted samples. Use `zero_division` parameter to control this behavior.\n",
      "  _warn_prf(average, modifier, msg_start, len(result))\n",
      "/home/sam/.local/lib/python3.10/site-packages/sklearn/metrics/_classification.py:1334: UndefinedMetricWarning: Precision and F-score are ill-defined and being set to 0.0 in labels with no predicted samples. Use `zero_division` parameter to control this behavior.\n",
      "  _warn_prf(average, modifier, msg_start, len(result))\n"
     ]
    }
   ],
   "source": [
    "model_sf_2 = MulticlassClassification(\n",
    "    78,\n",
    "    [20, 20, 20],\n",
    "    num_classes=15\n",
    ")\n",
    "model_sf_2.fit(X_2_train, Y_2_train, epochs=1, batch_size=32)\n",
    "model_sf_2.predict(X_2_test, Y_2_test)"
   ]
  },
  {
   "cell_type": "code",
   "execution_count": 53,
   "metadata": {},
   "outputs": [
    {
     "name": "stdout",
     "output_type": "stream",
     "text": [
      "Model: \"server_model\"\n",
      "_________________________________________________________________\n",
      " Layer (type)                Output Shape              Param #   \n",
      "=================================================================\n",
      " dense_82 (Dense)            (None, 20)                1580      \n",
      "                                                                 \n",
      " dense_83 (Dense)            (None, 20)                420       \n",
      "                                                                 \n",
      " dense_84 (Dense)            (None, 20)                420       \n",
      "                                                                 \n",
      " dense_85 (Dense)            (None, 15)                315       \n",
      "                                                                 \n",
      "=================================================================\n",
      "Total params: 2,735\n",
      "Trainable params: 2,735\n",
      "Non-trainable params: 0\n",
      "_________________________________________________________________\n",
      "0     68256\n",
      "4      6868\n",
      "10     4824\n",
      "2      3790\n",
      "3       308\n",
      "7       252\n",
      "5       187\n",
      "6       167\n",
      "11      159\n",
      "1        49\n",
      "12       41\n",
      "14       19\n",
      "9         2\n",
      "8         1\n",
      "dtype: int64\n"
     ]
    },
    {
     "name": "stderr",
     "output_type": "stream",
     "text": [
      "/tmp/ipykernel_125746/1574118328.py:7: VisibleDeprecationWarning: Creating an ndarray from ragged nested sequences (which is a list-or-tuple of lists-or-tuples-or ndarrays with different lengths or shapes) is deprecated. If you meant to do this, you must specify 'dtype=object' when creating the ndarray.\n",
      "  np.array([\n"
     ]
    },
    {
     "name": "stdout",
     "output_type": "stream",
     "text": [
      "2654/2654 [==============================] - 5s 2ms/step\n",
      "              precision    recall  f1-score   support\n",
      "\n",
      "           0       0.83      0.91      0.87     68256\n",
      "           1       0.00      0.00      0.00        49\n",
      "           2       0.00      0.00      0.00      3790\n",
      "           3       0.00      0.00      0.00       308\n",
      "           4       0.00      0.00      0.00      6868\n",
      "           5       0.00      0.00      0.00       187\n",
      "           6       0.00      0.03      0.00       167\n",
      "           7       0.00      0.00      0.00       252\n",
      "           8       0.00      0.00      0.00         1\n",
      "           9       0.00      0.00      0.00         2\n",
      "          10       0.48      0.61      0.54      4824\n",
      "          11       0.00      0.00      0.00       159\n",
      "          12       0.00      0.00      0.00        41\n",
      "          14       0.00      0.00      0.00        19\n",
      "\n",
      "    accuracy                           0.77     84923\n",
      "   macro avg       0.09      0.11      0.10     84923\n",
      "weighted avg       0.69      0.77      0.73     84923\n",
      "\n",
      "[[62374     0     0     0     0     0  2838     0     0     0  3044     0\n",
      "      0     0]\n",
      " [   49     0     0     0     0     0     0     0     0     0     0     0\n",
      "      0     0]\n",
      " [ 3198     0     0     0     0     0   592     0     0     0     0     0\n",
      "      0     0]\n",
      " [  308     0     0     0     0     0     0     0     0     0     0     0\n",
      "      0     0]\n",
      " [ 6833     0     0     0     0     0     6     0     0     0    29     0\n",
      "      0     0]\n",
      " [   86     0     0     0     0     0   101     0     0     0     0     0\n",
      "      0     0]\n",
      " [  157     0     0     0     0     0     5     0     0     0     5     0\n",
      "      0     0]\n",
      " [  249     0     0     0     0     0     2     0     0     0     1     0\n",
      "      0     0]\n",
      " [    1     0     0     0     0     0     0     0     0     0     0     0\n",
      "      0     0]\n",
      " [    2     0     0     0     0     0     0     0     0     0     0     0\n",
      "      0     0]\n",
      " [ 1896     0     0     0     0     0     2     0     0     0  2926     0\n",
      "      0     0]\n",
      " [   75     0     0     0     0     0     0     0     0     0    84     0\n",
      "      0     0]\n",
      " [    4     0     0     0     0     0    34     0     0     0     3     0\n",
      "      0     0]\n",
      " [    1     0     0     0     0     0    17     0     0     0     1     0\n",
      "      0     0]]\n"
     ]
    },
    {
     "name": "stderr",
     "output_type": "stream",
     "text": [
      "/home/sam/.local/lib/python3.10/site-packages/sklearn/metrics/_classification.py:1334: UndefinedMetricWarning: Precision and F-score are ill-defined and being set to 0.0 in labels with no predicted samples. Use `zero_division` parameter to control this behavior.\n",
      "  _warn_prf(average, modifier, msg_start, len(result))\n",
      "/home/sam/.local/lib/python3.10/site-packages/sklearn/metrics/_classification.py:1334: UndefinedMetricWarning: Precision and F-score are ill-defined and being set to 0.0 in labels with no predicted samples. Use `zero_division` parameter to control this behavior.\n",
      "  _warn_prf(average, modifier, msg_start, len(result))\n",
      "/home/sam/.local/lib/python3.10/site-packages/sklearn/metrics/_classification.py:1334: UndefinedMetricWarning: Precision and F-score are ill-defined and being set to 0.0 in labels with no predicted samples. Use `zero_division` parameter to control this behavior.\n",
      "  _warn_prf(average, modifier, msg_start, len(result))\n"
     ]
    }
   ],
   "source": [
    "model_sf_3 = MulticlassClassification(\n",
    "    78,\n",
    "    [20, 20, 20],\n",
    "    num_classes=15\n",
    ")\n",
    "model_sf_3.model.set_weights(np.mean(\n",
    "        np.array([\n",
    "            model_sf_1.model.get_weights(),\n",
    "            model_sf_2.model.get_weights()\n",
    "        ]),\n",
    "        axis=0\n",
    "    )\n",
    ")\n",
    "model_sf_3.predict(X_1_test, Y_1_test)"
   ]
  }
 ],
 "metadata": {
  "kernelspec": {
   "display_name": "Python 3.10.6 64-bit",
   "language": "python",
   "name": "python3"
  },
  "language_info": {
   "codemirror_mode": {
    "name": "ipython",
    "version": 3
   },
   "file_extension": ".py",
   "mimetype": "text/x-python",
   "name": "python",
   "nbconvert_exporter": "python",
   "pygments_lexer": "ipython3",
   "version": "3.10.7"
  },
  "orig_nbformat": 4,
  "vscode": {
   "interpreter": {
    "hash": "e7370f93d1d0cde622a1f8e1c04877d8463912d04d973331ad4851f04de6915a"
   }
  }
 },
 "nbformat": 4,
 "nbformat_minor": 2
}
