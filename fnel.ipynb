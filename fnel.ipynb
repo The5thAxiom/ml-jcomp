{
 "cells": [
  {
   "cell_type": "markdown",
   "metadata": {},
   "source": [
    "# Federated Never Ending Learning"
   ]
  },
  {
   "cell_type": "code",
   "execution_count": 2,
   "metadata": {},
   "outputs": [],
   "source": [
    "import pandas as pd\n",
    "import numpy as np\n",
    "import matplotlib.pyplot as plt"
   ]
  },
  {
   "cell_type": "code",
   "execution_count": 3,
   "metadata": {},
   "outputs": [],
   "source": [
    "import warnings\n",
    "warnings.filterwarnings(\"ignore\")"
   ]
  },
  {
   "cell_type": "code",
   "execution_count": 4,
   "metadata": {},
   "outputs": [],
   "source": [
    "from sklearn.model_selection import train_test_split\n",
    "from sklearn.metrics import ConfusionMatrixDisplay, classification_report"
   ]
  },
  {
   "cell_type": "code",
   "execution_count": 5,
   "metadata": {},
   "outputs": [
    {
     "name": "stderr",
     "output_type": "stream",
     "text": [
      "2022-11-21 10:33:55.004044: I tensorflow/core/platform/cpu_feature_guard.cc:193] This TensorFlow binary is optimized with oneAPI Deep Neural Network Library (oneDNN) to use the following CPU instructions in performance-critical operations:  AVX2 FMA\n",
      "To enable them in other operations, rebuild TensorFlow with the appropriate compiler flags.\n",
      "2022-11-21 10:33:55.586131: W tensorflow/stream_executor/platform/default/dso_loader.cc:64] Could not load dynamic library 'libcudart.so.11.0'; dlerror: libcudart.so.11.0: cannot open shared object file: No such file or directory; LD_LIBRARY_PATH: /usr/lib64/openmpi/lib\n",
      "2022-11-21 10:33:55.586173: I tensorflow/stream_executor/cuda/cudart_stub.cc:29] Ignore above cudart dlerror if you do not have a GPU set up on your machine.\n",
      "2022-11-21 10:33:55.690371: E tensorflow/stream_executor/cuda/cuda_blas.cc:2981] Unable to register cuBLAS factory: Attempting to register factory for plugin cuBLAS when one has already been registered\n",
      "2022-11-21 10:33:57.647078: W tensorflow/stream_executor/platform/default/dso_loader.cc:64] Could not load dynamic library 'libnvinfer.so.7'; dlerror: libnvinfer.so.7: cannot open shared object file: No such file or directory; LD_LIBRARY_PATH: /usr/lib64/openmpi/lib\n",
      "2022-11-21 10:33:57.647933: W tensorflow/stream_executor/platform/default/dso_loader.cc:64] Could not load dynamic library 'libnvinfer_plugin.so.7'; dlerror: libnvinfer_plugin.so.7: cannot open shared object file: No such file or directory; LD_LIBRARY_PATH: /usr/lib64/openmpi/lib\n",
      "2022-11-21 10:33:57.647995: W tensorflow/compiler/tf2tensorrt/utils/py_utils.cc:38] TF-TRT Warning: Cannot dlopen some TensorRT libraries. If you would like to use Nvidia GPU with TensorRT, please make sure the missing libraries mentioned above are installed properly.\n"
     ]
    }
   ],
   "source": [
    "from tensorflow import keras\n",
    "from keras.models import Sequential\n",
    "from keras.layers import Dense"
   ]
  },
  {
   "cell_type": "markdown",
   "metadata": {},
   "source": [
    "## Data Preprocessing"
   ]
  },
  {
   "cell_type": "code",
   "execution_count": 6,
   "metadata": {},
   "outputs": [],
   "source": [
    "df = pd.read_csv('datasets/CICIDS_test.csv', skipinitialspace=True)"
   ]
  },
  {
   "cell_type": "code",
   "execution_count": 7,
   "metadata": {},
   "outputs": [],
   "source": [
    "from sklearn.preprocessing import MinMaxScaler, Normalizer\n",
    "# from keras.utils import to_categorical\n",
    "\n",
    "# # removing any class with less than 'thresh' samples\n",
    "# thresh = 1000\n",
    "# counts = df[['Label']].value_counts().to_dict()\n",
    "# keep = [x[0] for x in counts if counts[x] >= thresh]\n",
    "# df = df.loc[df['Label'].isin(keep)]\n",
    "\n",
    "\n",
    "X = df.loc[:, df.columns != 'Label']\n",
    "X = Normalizer().fit_transform(X)\n",
    "X = MinMaxScaler().fit_transform(X)\n",
    "Y = df[['Label']].to_numpy()"
   ]
  },
  {
   "cell_type": "code",
   "execution_count": 8,
   "metadata": {},
   "outputs": [
    {
     "name": "stdout",
     "output_type": "stream",
     "text": [
      "(566149, 78)\n",
      "(566149, 1)\n",
      "15\n"
     ]
    },
    {
     "data": {
      "text/plain": [
       "0     454620\n",
       "4      46215\n",
       "10     31786\n",
       "2      25606\n",
       "3       2059\n",
       "7       1588\n",
       "11      1179\n",
       "6       1159\n",
       "5       1100\n",
       "1        393\n",
       "12       301\n",
       "14       130\n",
       "9          7\n",
       "13         4\n",
       "8          2\n",
       "dtype: int64"
      ]
     },
     "execution_count": 8,
     "metadata": {},
     "output_type": "execute_result"
    }
   ],
   "source": [
    "print(X.shape)\n",
    "print(Y.shape)\n",
    "print(len(np.unique(Y)))\n",
    "pd.value_counts(Y.ravel())"
   ]
  },
  {
   "cell_type": "markdown",
   "metadata": {},
   "source": [
    "## Classification Models"
   ]
  },
  {
   "cell_type": "code",
   "execution_count": 9,
   "metadata": {},
   "outputs": [],
   "source": [
    "class BinaryClassification:\n",
    "    def __init__(self, input_dims, layers):\n",
    "        self.model = Sequential(name=\"server_model\")\n",
    "        self.model.add(Dense(\n",
    "            layers[0],\n",
    "            input_shape=(input_dims,),\n",
    "            activation='relu'\n",
    "        ))\n",
    "        for l in layers[1:]:\n",
    "            self.model.add(Dense(l, activation='relu'))\n",
    "        self.model.add(Dense(1, activation='sigmoid'))\n",
    "        self.model.compile(\n",
    "            loss='binary_crossentropy',\n",
    "            optimizer='adam',\n",
    "            metrics=['accuracy', ]\n",
    "        )\n",
    "        self.model.summary()\n",
    "\n",
    "    # THIS WILL OVERWRITE ANY TRAINING\n",
    "    def set_avg_weights(self, models):\n",
    "        all_weights = np.array([\n",
    "            model.model.get_weights()\n",
    "                for model in models\n",
    "        ])\n",
    "        avg_weights = np.mean(all_weights, axis=0)\n",
    "        self.model.set_weights(avg_weights)\n",
    "    \n",
    "    def fit(self, X, Y, epochs, batch_size):\n",
    "        Y_bin = np.asarray([\n",
    "            0 if y == 0 else 1 for y in Y.ravel()\n",
    "        ]).reshape(-1, 1)\n",
    "        # print(Y_bin.shape)\n",
    "        # print(pd.value_counts(Y_bin.ravel()))\n",
    "        self.model.fit(X, Y_bin, epochs=epochs, batch_size=batch_size)\n",
    "\n",
    "    def predict(self, X, Y):\n",
    "        Y_bin = np.asarray([\n",
    "            0 if y == 0 else 1 for y in Y.ravel()\n",
    "        ]).reshape(-1, 1)\n",
    "        # print(pd.value_counts(Y_bin.ravel()))\n",
    "        \n",
    "        preds = self.model.predict(X)\n",
    "        preds = np.where(preds > 0.5, 1, 0)\n",
    "\n",
    "        # print(Y_bin.shape)\n",
    "        # print(preds.shape)\n",
    "        print(classification_report(Y_bin, preds))\n",
    "        # print(confusion_matrix(Y_bin, preds))\n",
    "        ConfusionMatrixDisplay.from_predictions(Y_bin, preds)\n"
   ]
  },
  {
   "cell_type": "code",
   "execution_count": 10,
   "metadata": {},
   "outputs": [],
   "source": [
    "class MulticlassClassification:\n",
    "    def __init__(self, input_dims, layers, num_classes):\n",
    "        self.model = Sequential(name=\"server_model\")\n",
    "        self.model.add(Dense(\n",
    "            layers[0],\n",
    "            input_shape=(input_dims,),\n",
    "            activation='relu'\n",
    "        ))\n",
    "        for l in layers[1:]:\n",
    "            self.model.add(Dense(l, activation='relu'))\n",
    "        self.model.add(Dense(num_classes, activation='softmax'))\n",
    "        self.model.compile(\n",
    "            loss='sparse_categorical_crossentropy',\n",
    "            optimizer='adam',\n",
    "            metrics=['accuracy']\n",
    "        )\n",
    "        self.model.summary()\n",
    "\n",
    "    # THIS WILL OVERWRITE ANY TRAINING\n",
    "    def set_avg_weights(self, models):\n",
    "        all_weights = np.array([\n",
    "            model.model.get_weights()\n",
    "                for model in models\n",
    "        ])\n",
    "        avg_weights = np.mean(all_weights, axis=0)\n",
    "        self.model.set_weights(avg_weights)\n",
    "\n",
    "    def fit(self, X, Y, epochs, batch_size):\n",
    "        # print(pd.value_counts(Y.ravel()))\n",
    "        self.model.fit(X, Y.ravel(), epochs=epochs, batch_size=batch_size)\n",
    "\n",
    "    def predict(self, X, Y):\n",
    "        # print(pd.value_counts(Y.ravel()))\n",
    "        \n",
    "        preds = self.model.predict(X)\n",
    "        preds = [np.argmax(p) for p in preds]\n",
    "        \n",
    "        print(classification_report(Y, preds))\n",
    "        # print(confusion_matrix(Y, preds))\n",
    "        ConfusionMatrixDisplay.from_predictions(Y, preds)\n",
    "\n"
   ]
  },
  {
   "cell_type": "markdown",
   "metadata": {},
   "source": [
    "## Non-Federated"
   ]
  },
  {
   "cell_type": "code",
   "execution_count": 11,
   "metadata": {},
   "outputs": [
    {
     "name": "stdout",
     "output_type": "stream",
     "text": [
      "(396304, 78)\n",
      "(396304, 1)\n",
      "[ 0  1  2  3  4  5  6  7  8  9 10 11 12 13 14]\n",
      "0     318395\n",
      "4      32391\n",
      "10     22137\n",
      "2      17891\n",
      "3       1417\n",
      "7       1123\n",
      "11       827\n",
      "6        786\n",
      "5        780\n",
      "1        257\n",
      "12       197\n",
      "14        92\n",
      "9          7\n",
      "13         2\n",
      "8          2\n",
      "dtype: int64\n",
      "(169845, 78)\n",
      "(169845, 1)\n",
      "[ 0  1  2  3  4  5  6  7 10 11 12 13 14]\n",
      "0     136225\n",
      "4      13824\n",
      "10      9649\n",
      "2       7715\n",
      "3        642\n",
      "7        465\n",
      "6        373\n",
      "11       352\n",
      "5        320\n",
      "1        136\n",
      "12       104\n",
      "14        38\n",
      "13         2\n",
      "dtype: int64\n"
     ]
    }
   ],
   "source": [
    "X_train, X_test, Y_train, Y_test = train_test_split(X, Y, train_size=0.7, random_state=1)\n",
    "\n",
    "print(X_train.shape)\n",
    "print(Y_train.shape)\n",
    "print(np.unique(Y_train))\n",
    "print(pd.value_counts(Y_train.ravel()))\n",
    "\n",
    "print(X_test.shape)\n",
    "print(Y_test.shape)\n",
    "print(np.unique(Y_test))\n",
    "print(pd.value_counts(Y_test.ravel()))"
   ]
  },
  {
   "cell_type": "markdown",
   "metadata": {},
   "source": [
    "### Binary Classification into Benign/Malicious"
   ]
  },
  {
   "cell_type": "code",
   "execution_count": 81,
   "metadata": {},
   "outputs": [
    {
     "name": "stdout",
     "output_type": "stream",
     "text": [
      "Model: \"server_model\"\n",
      "_________________________________________________________________\n",
      " Layer (type)                Output Shape              Param #   \n",
      "=================================================================\n",
      " dense_56 (Dense)            (None, 20)                1580      \n",
      "                                                                 \n",
      " dense_57 (Dense)            (None, 20)                420       \n",
      "                                                                 \n",
      " dense_58 (Dense)            (None, 20)                420       \n",
      "                                                                 \n",
      " dense_59 (Dense)            (None, 1)                 21        \n",
      "                                                                 \n",
      "=================================================================\n",
      "Total params: 2,441\n",
      "Trainable params: 2,441\n",
      "Non-trainable params: 0\n",
      "_________________________________________________________________\n",
      "Epoch 1/10\n",
      "12385/12385 [==============================] - 35s 3ms/step - loss: 0.1017 - accuracy: 0.9623\n",
      "Epoch 2/10\n",
      "12385/12385 [==============================] - 34s 3ms/step - loss: 0.0488 - accuracy: 0.9857\n",
      "Epoch 3/10\n",
      "12385/12385 [==============================] - 35s 3ms/step - loss: 0.0394 - accuracy: 0.9888\n",
      "Epoch 4/10\n",
      "12385/12385 [==============================] - 36s 3ms/step - loss: 0.0348 - accuracy: 0.9902\n",
      "Epoch 5/10\n",
      "12385/12385 [==============================] - 36s 3ms/step - loss: 0.0313 - accuracy: 0.9913\n",
      "Epoch 6/10\n",
      "12385/12385 [==============================] - 36s 3ms/step - loss: 0.0289 - accuracy: 0.9920\n",
      "Epoch 7/10\n",
      "12385/12385 [==============================] - 36s 3ms/step - loss: 0.0268 - accuracy: 0.9926\n",
      "Epoch 8/10\n",
      "12385/12385 [==============================] - 36s 3ms/step - loss: 0.0243 - accuracy: 0.9931\n",
      "Epoch 9/10\n",
      "12385/12385 [==============================] - 36s 3ms/step - loss: 0.0234 - accuracy: 0.9935\n",
      "Epoch 10/10\n",
      "12385/12385 [==============================] - 36s 3ms/step - loss: 0.0218 - accuracy: 0.9939\n"
     ]
    }
   ],
   "source": [
    "model_binary = BinaryClassification(\n",
    "    input_dims=78,\n",
    "    layers=[20, 20, 20]\n",
    ")\n",
    "model_binary.fit(X_train, Y_train, epochs=10, batch_size=32)"
   ]
  },
  {
   "cell_type": "code",
   "execution_count": 82,
   "metadata": {},
   "outputs": [
    {
     "name": "stdout",
     "output_type": "stream",
     "text": [
      "5308/5308 [==============================] - 10s 2ms/step\n",
      "              precision    recall  f1-score   support\n",
      "\n",
      "           0       1.00      1.00      1.00    136225\n",
      "           1       0.99      0.98      0.98     33620\n",
      "\n",
      "    accuracy                           0.99    169845\n",
      "   macro avg       0.99      0.99      0.99    169845\n",
      "weighted avg       0.99      0.99      0.99    169845\n",
      "\n"
     ]
    },
    {
     "data": {
      "image/png": "[encoded data removed]",
      "text/plain": [
       "<Figure size 432x288 with 2 Axes>"
      ]
     },
     "metadata": {
      "needs_background": "light"
     },
     "output_type": "display_data"
    }
   ],
   "source": [
    "model_binary.predict(X_test, Y_test)"
   ]
  },
  {
   "cell_type": "markdown",
   "metadata": {},
   "source": [
    "### SoftMax A"
   ]
  },
  {
   "cell_type": "code",
   "execution_count": 83,
   "metadata": {},
   "outputs": [
    {
     "name": "stdout",
     "output_type": "stream",
     "text": [
      "Model: \"server_model\"\n",
      "_________________________________________________________________\n",
      " Layer (type)                Output Shape              Param #   \n",
      "=================================================================\n",
      " dense_60 (Dense)            (None, 20)                1580      \n",
      "                                                                 \n",
      " dense_61 (Dense)            (None, 20)                420       \n",
      "                                                                 \n",
      " dense_62 (Dense)            (None, 20)                420       \n",
      "                                                                 \n",
      " dense_63 (Dense)            (None, 15)                315       \n",
      "                                                                 \n",
      "=================================================================\n",
      "Total params: 2,735\n",
      "Trainable params: 2,735\n",
      "Non-trainable params: 0\n",
      "_________________________________________________________________\n",
      "Epoch 1/10\n",
      "12385/12385 [==============================] - 38s 3ms/step - loss: 0.1828 - accuracy: 0.9467\n",
      "Epoch 2/10\n",
      "12385/12385 [==============================] - 37s 3ms/step - loss: 0.0758 - accuracy: 0.9803\n",
      "Epoch 3/10\n",
      "12385/12385 [==============================] - 37s 3ms/step - loss: 0.0581 - accuracy: 0.9850\n",
      "Epoch 4/10\n",
      "12385/12385 [==============================] - 37s 3ms/step - loss: 0.0501 - accuracy: 0.9870\n",
      "Epoch 5/10\n",
      "12385/12385 [==============================] - 38s 3ms/step - loss: 0.0450 - accuracy: 0.9884\n",
      "Epoch 6/10\n",
      "12385/12385 [==============================] - 38s 3ms/step - loss: 0.0409 - accuracy: 0.9894\n",
      "Epoch 7/10\n",
      "12385/12385 [==============================] - 38s 3ms/step - loss: 0.0373 - accuracy: 0.9906\n",
      "Epoch 8/10\n",
      "12385/12385 [==============================] - 38s 3ms/step - loss: 0.0343 - accuracy: 0.9914\n",
      "Epoch 9/10\n",
      "12385/12385 [==============================] - 38s 3ms/step - loss: 0.0318 - accuracy: 0.9921\n",
      "Epoch 10/10\n",
      "12385/12385 [==============================] - 38s 3ms/step - loss: 0.0303 - accuracy: 0.9924\n"
     ]
    }
   ],
   "source": [
    "model_sf = MulticlassClassification(\n",
    "    input_dims=78,\n",
    "    layers=[20, 20, 20],\n",
    "    num_classes=15\n",
    ")\n",
    "model_sf.fit(X_train, Y_train, epochs=10, batch_size=32)"
   ]
  },
  {
   "cell_type": "code",
   "execution_count": 84,
   "metadata": {},
   "outputs": [
    {
     "name": "stdout",
     "output_type": "stream",
     "text": [
      "5308/5308 [==============================] - 10s 2ms/step\n",
      "              precision    recall  f1-score   support\n",
      "\n",
      "           0       1.00      1.00      1.00    136225\n",
      "           1       0.98      0.32      0.49       136\n",
      "           2       0.96      1.00      0.98      7715\n",
      "           3       0.94      0.93      0.94       642\n",
      "           4       0.99      0.98      0.99     13824\n",
      "           5       0.78      0.75      0.77       320\n",
      "           6       0.83      0.68      0.75       373\n",
      "           7       1.00      0.98      0.99       465\n",
      "          10       0.99      1.00      0.99      9649\n",
      "          11       0.95      0.90      0.93       352\n",
      "          12       0.00      0.00      0.00       104\n",
      "          13       0.00      0.00      0.00         2\n",
      "          14       0.00      0.00      0.00        38\n",
      "\n",
      "    accuracy                           0.99    169845\n",
      "   macro avg       0.72      0.66      0.68    169845\n",
      "weighted avg       0.99      0.99      0.99    169845\n",
      "\n"
     ]
    },
    {
     "data": {
      "image/png": "[encoded data removed]",
      "text/plain": [
       "<Figure size 432x288 with 2 Axes>"
      ]
     },
     "metadata": {
      "needs_background": "light"
     },
     "output_type": "display_data"
    }
   ],
   "source": [
    "model_sf.predict(X_test, Y_test)"
   ]
  },
  {
   "cell_type": "markdown",
   "metadata": {},
   "source": [
    "## Federated Learning"
   ]
  },
  {
   "cell_type": "code",
   "execution_count": 11,
   "metadata": {},
   "outputs": [],
   "source": [
    "X_1, X_2, Y_1, Y_2 = train_test_split(X_train, Y_train, train_size=0.5, random_state=1)"
   ]
  },
  {
   "cell_type": "code",
   "execution_count": 12,
   "metadata": {},
   "outputs": [
    {
     "name": "stdout",
     "output_type": "stream",
     "text": [
      "(198152, 78)\n",
      "(198152, 1)\n",
      "[ 0  1  2  3  4  5  6  7  8  9 10 11 12 13 14]\n",
      "0     158990\n",
      "4      16294\n",
      "10     11120\n",
      "2       8918\n",
      "3        735\n",
      "7        561\n",
      "11       440\n",
      "5        409\n",
      "6        392\n",
      "1        139\n",
      "12        99\n",
      "14        51\n",
      "9          2\n",
      "8          1\n",
      "13         1\n",
      "dtype: int64\n",
      "(198152, 78)\n",
      "(198152, 1)\n",
      "[ 0  1  2  3  4  5  6  7  8  9 10 11 12 13 14]\n",
      "0     159405\n",
      "4      16097\n",
      "10     11017\n",
      "2       8973\n",
      "3        682\n",
      "7        562\n",
      "6        394\n",
      "11       387\n",
      "5        371\n",
      "1        118\n",
      "12        98\n",
      "14        41\n",
      "9          5\n",
      "8          1\n",
      "13         1\n",
      "dtype: int64\n"
     ]
    }
   ],
   "source": [
    "print(X_1.shape)\n",
    "print(Y_1.shape)\n",
    "print(np.unique(Y_1))\n",
    "print(pd.value_counts(Y_1.ravel()))\n",
    "print(X_2.shape)\n",
    "print(Y_2.shape)\n",
    "print(np.unique(Y_2))\n",
    "print(pd.value_counts(Y_2.ravel()))"
   ]
  },
  {
   "cell_type": "markdown",
   "metadata": {},
   "source": [
    "### Binary Classification"
   ]
  },
  {
   "cell_type": "code",
   "execution_count": 87,
   "metadata": {},
   "outputs": [
    {
     "name": "stdout",
     "output_type": "stream",
     "text": [
      "Model: \"server_model\"\n",
      "_________________________________________________________________\n",
      " Layer (type)                Output Shape              Param #   \n",
      "=================================================================\n",
      " dense_64 (Dense)            (None, 20)                1580      \n",
      "                                                                 \n",
      " dense_65 (Dense)            (None, 20)                420       \n",
      "                                                                 \n",
      " dense_66 (Dense)            (None, 20)                420       \n",
      "                                                                 \n",
      " dense_67 (Dense)            (None, 1)                 21        \n",
      "                                                                 \n",
      "=================================================================\n",
      "Total params: 2,441\n",
      "Trainable params: 2,441\n",
      "Non-trainable params: 0\n",
      "_________________________________________________________________\n",
      "Epoch 1/10\n",
      "6193/6193 [==============================] - 19s 3ms/step - loss: 0.1293 - accuracy: 0.9489\n",
      "Epoch 2/10\n",
      "6193/6193 [==============================] - 18s 3ms/step - loss: 0.0642 - accuracy: 0.9802\n",
      "Epoch 3/10\n",
      "6193/6193 [==============================] - 18s 3ms/step - loss: 0.0523 - accuracy: 0.9842\n",
      "Epoch 4/10\n",
      "6193/6193 [==============================] - 19s 3ms/step - loss: 0.0472 - accuracy: 0.9858\n",
      "Epoch 5/10\n",
      "6193/6193 [==============================] - 18s 3ms/step - loss: 0.0421 - accuracy: 0.9876\n",
      "Epoch 6/10\n",
      "6193/6193 [==============================] - 18s 3ms/step - loss: 0.0389 - accuracy: 0.9888\n",
      "Epoch 7/10\n",
      "6193/6193 [==============================] - 18s 3ms/step - loss: 0.0361 - accuracy: 0.9897\n",
      "Epoch 8/10\n",
      "6193/6193 [==============================] - 18s 3ms/step - loss: 0.0335 - accuracy: 0.9904\n",
      "Epoch 9/10\n",
      "6193/6193 [==============================] - 19s 3ms/step - loss: 0.0318 - accuracy: 0.9910\n",
      "Epoch 10/10\n",
      "6193/6193 [==============================] - 20s 3ms/step - loss: 0.0303 - accuracy: 0.9916\n"
     ]
    }
   ],
   "source": [
    "model_1 = BinaryClassification(78, [20, 20, 20])\n",
    "model_1.fit(X_1, Y_1, epochs=10, batch_size=32)"
   ]
  },
  {
   "cell_type": "code",
   "execution_count": 88,
   "metadata": {},
   "outputs": [
    {
     "name": "stdout",
     "output_type": "stream",
     "text": [
      "5308/5308 [==============================] - 11s 2ms/step\n",
      "              precision    recall  f1-score   support\n",
      "\n",
      "           0       0.99      1.00      1.00    136225\n",
      "           1       0.98      0.98      0.98     33620\n",
      "\n",
      "    accuracy                           0.99    169845\n",
      "   macro avg       0.99      0.99      0.99    169845\n",
      "weighted avg       0.99      0.99      0.99    169845\n",
      "\n"
     ]
    },
    {
     "data": {
      "image/png": "[encoded data removed]",
      "text/plain": [
       "<Figure size 432x288 with 2 Axes>"
      ]
     },
     "metadata": {
      "needs_background": "light"
     },
     "output_type": "display_data"
    }
   ],
   "source": [
    "model_1.predict(X_test, Y_test)"
   ]
  },
  {
   "cell_type": "code",
   "execution_count": 89,
   "metadata": {},
   "outputs": [
    {
     "name": "stdout",
     "output_type": "stream",
     "text": [
      "Model: \"server_model\"\n",
      "_________________________________________________________________\n",
      " Layer (type)                Output Shape              Param #   \n",
      "=================================================================\n",
      " dense_68 (Dense)            (None, 20)                1580      \n",
      "                                                                 \n",
      " dense_69 (Dense)            (None, 20)                420       \n",
      "                                                                 \n",
      " dense_70 (Dense)            (None, 20)                420       \n",
      "                                                                 \n",
      " dense_71 (Dense)            (None, 1)                 21        \n",
      "                                                                 \n",
      "=================================================================\n",
      "Total params: 2,441\n",
      "Trainable params: 2,441\n",
      "Non-trainable params: 0\n",
      "_________________________________________________________________\n",
      "Epoch 1/10\n",
      "6193/6193 [==============================] - 18s 3ms/step - loss: 0.1230 - accuracy: 0.9534\n",
      "Epoch 2/10\n",
      "6193/6193 [==============================] - 17s 3ms/step - loss: 0.0603 - accuracy: 0.9819\n",
      "Epoch 3/10\n",
      "6193/6193 [==============================] - 17s 3ms/step - loss: 0.0477 - accuracy: 0.9862\n",
      "Epoch 4/10\n",
      "6193/6193 [==============================] - 17s 3ms/step - loss: 0.0419 - accuracy: 0.9879\n",
      "Epoch 5/10\n",
      "6193/6193 [==============================] - 17s 3ms/step - loss: 0.0376 - accuracy: 0.9894\n",
      "Epoch 6/10\n",
      "6193/6193 [==============================] - 17s 3ms/step - loss: 0.0349 - accuracy: 0.9900\n",
      "Epoch 7/10\n",
      "6193/6193 [==============================] - 17s 3ms/step - loss: 0.0325 - accuracy: 0.9910\n",
      "Epoch 8/10\n",
      "6193/6193 [==============================] - 17s 3ms/step - loss: 0.0310 - accuracy: 0.9912\n",
      "Epoch 9/10\n",
      "6193/6193 [==============================] - 18s 3ms/step - loss: 0.0290 - accuracy: 0.9922\n",
      "Epoch 10/10\n",
      "6193/6193 [==============================] - 18s 3ms/step - loss: 0.0281 - accuracy: 0.9924\n"
     ]
    }
   ],
   "source": [
    "model_2 = BinaryClassification(78, [20, 20, 20])\n",
    "model_2.fit(X_2, Y_2, epochs=10, batch_size=32)"
   ]
  },
  {
   "cell_type": "code",
   "execution_count": 90,
   "metadata": {},
   "outputs": [
    {
     "name": "stdout",
     "output_type": "stream",
     "text": [
      "5308/5308 [==============================] - 10s 2ms/step\n",
      "              precision    recall  f1-score   support\n",
      "\n",
      "           0       1.00      0.99      0.99    136225\n",
      "           1       0.98      0.98      0.98     33620\n",
      "\n",
      "    accuracy                           0.99    169845\n",
      "   macro avg       0.99      0.99      0.99    169845\n",
      "weighted avg       0.99      0.99      0.99    169845\n",
      "\n"
     ]
    },
    {
     "data": {
      "image/png": "[encoded data removed]",
      "text/plain": [
       "<Figure size 432x288 with 2 Axes>"
      ]
     },
     "metadata": {
      "needs_background": "light"
     },
     "output_type": "display_data"
    }
   ],
   "source": [
    "model_2.predict(X_test, Y_test)"
   ]
  },
  {
   "cell_type": "code",
   "execution_count": 91,
   "metadata": {},
   "outputs": [
    {
     "name": "stdout",
     "output_type": "stream",
     "text": [
      "Model: \"server_model\"\n",
      "_________________________________________________________________\n",
      " Layer (type)                Output Shape              Param #   \n",
      "=================================================================\n",
      " dense_72 (Dense)            (None, 20)                1580      \n",
      "                                                                 \n",
      " dense_73 (Dense)            (None, 20)                420       \n",
      "                                                                 \n",
      " dense_74 (Dense)            (None, 20)                420       \n",
      "                                                                 \n",
      " dense_75 (Dense)            (None, 1)                 21        \n",
      "                                                                 \n",
      "=================================================================\n",
      "Total params: 2,441\n",
      "Trainable params: 2,441\n",
      "Non-trainable params: 0\n",
      "_________________________________________________________________\n"
     ]
    }
   ],
   "source": [
    "model_3 = BinaryClassification(78, [20, 20, 20])\n",
    "model_3.set_avg_weights([model_1, model_2])"
   ]
  },
  {
   "cell_type": "code",
   "execution_count": 92,
   "metadata": {},
   "outputs": [
    {
     "name": "stdout",
     "output_type": "stream",
     "text": [
      "5308/5308 [==============================] - 9s 2ms/step\n",
      "              precision    recall  f1-score   support\n",
      "\n",
      "           0       0.87      0.89      0.88    136225\n",
      "           1       0.50      0.44      0.47     33620\n",
      "\n",
      "    accuracy                           0.80    169845\n",
      "   macro avg       0.68      0.66      0.67    169845\n",
      "weighted avg       0.79      0.80      0.80    169845\n",
      "\n"
     ]
    },
    {
     "data": {
      "image/png": "[encoded data removed]",
      "text/plain": [
       "<Figure size 432x288 with 2 Axes>"
      ]
     },
     "metadata": {
      "needs_background": "light"
     },
     "output_type": "display_data"
    }
   ],
   "source": [
    "model_3.predict(X_test, Y_test)"
   ]
  },
  {
   "cell_type": "markdown",
   "metadata": {},
   "source": [
    "### Multiclass Classification"
   ]
  },
  {
   "cell_type": "code",
   "execution_count": 24,
   "metadata": {},
   "outputs": [
    {
     "name": "stdout",
     "output_type": "stream",
     "text": [
      "Model: \"server_model\"\n",
      "_________________________________________________________________\n",
      " Layer (type)                Output Shape              Param #   \n",
      "=================================================================\n",
      " dense_8 (Dense)             (None, 20)                1580      \n",
      "                                                                 \n",
      " dense_9 (Dense)             (None, 20)                420       \n",
      "                                                                 \n",
      " dense_10 (Dense)            (None, 20)                420       \n",
      "                                                                 \n",
      " dense_11 (Dense)            (None, 15)                315       \n",
      "                                                                 \n",
      "=================================================================\n",
      "Total params: 2,735\n",
      "Trainable params: 2,735\n",
      "Non-trainable params: 0\n",
      "_________________________________________________________________\n"
     ]
    },
    {
     "name": "stderr",
     "output_type": "stream",
     "text": [
      "2022-11-21 10:27:48.743392: W tensorflow/core/framework/cpu_allocator_impl.cc:82] Allocation of 61823424 exceeds 10% of free system memory.\n"
     ]
    },
    {
     "name": "stdout",
     "output_type": "stream",
     "text": [
      "Epoch 1/10\n",
      "6193/6193 [==============================] - 20s 3ms/step - loss: 0.2456 - accuracy: 0.9264\n",
      "Epoch 2/10\n",
      "6193/6193 [==============================] - 17s 3ms/step - loss: 0.1108 - accuracy: 0.9674\n",
      "Epoch 3/10\n",
      "6193/6193 [==============================] - 18s 3ms/step - loss: 0.0822 - accuracy: 0.9796\n",
      "Epoch 4/10\n",
      "6193/6193 [==============================] - 17s 3ms/step - loss: 0.0692 - accuracy: 0.9823\n",
      "Epoch 5/10\n",
      "6193/6193 [==============================] - 17s 3ms/step - loss: 0.0602 - accuracy: 0.9851\n",
      "Epoch 6/10\n",
      "6193/6193 [==============================] - 17s 3ms/step - loss: 0.0545 - accuracy: 0.9863\n",
      "Epoch 7/10\n",
      "6193/6193 [==============================] - 18s 3ms/step - loss: 0.0504 - accuracy: 0.9874\n",
      "Epoch 8/10\n",
      "6193/6193 [==============================] - 19s 3ms/step - loss: 0.0464 - accuracy: 0.9884\n",
      "Epoch 9/10\n",
      "6193/6193 [==============================] - 18s 3ms/step - loss: 0.0434 - accuracy: 0.9893\n",
      "Epoch 10/10\n",
      "6193/6193 [==============================] - 19s 3ms/step - loss: 0.0417 - accuracy: 0.9895\n"
     ]
    }
   ],
   "source": [
    "model_sf_1 = MulticlassClassification(\n",
    "    78,\n",
    "    [20, 20, 20],\n",
    "    num_classes=15\n",
    ")\n",
    "model_sf_1.fit(X_1, Y_1, epochs=10, batch_size=32)"
   ]
  },
  {
   "cell_type": "code",
   "execution_count": 94,
   "metadata": {},
   "outputs": [
    {
     "name": "stdout",
     "output_type": "stream",
     "text": [
      "5308/5308 [==============================] - 12s 2ms/step\n",
      "              precision    recall  f1-score   support\n",
      "\n",
      "           0       0.99      1.00      0.99    136225\n",
      "           1       1.00      0.33      0.50       136\n",
      "           2       0.97      0.99      0.98      7715\n",
      "           3       0.90      0.96      0.93       642\n",
      "           4       0.98      0.97      0.98     13824\n",
      "           5       0.77      0.71      0.74       320\n",
      "           6       0.81      0.66      0.73       373\n",
      "           7       1.00      0.86      0.92       465\n",
      "          10       0.99      1.00      0.99      9649\n",
      "          11       0.96      0.89      0.92       352\n",
      "          12       0.00      0.00      0.00       104\n",
      "          13       0.00      0.00      0.00         2\n",
      "          14       0.00      0.00      0.00        38\n",
      "\n",
      "    accuracy                           0.99    169845\n",
      "   macro avg       0.72      0.64      0.67    169845\n",
      "weighted avg       0.99      0.99      0.99    169845\n",
      "\n"
     ]
    },
    {
     "data": {
      "image/png": "[encoded data removed]",
      "text/plain": [
       "<Figure size 432x288 with 2 Axes>"
      ]
     },
     "metadata": {
      "needs_background": "light"
     },
     "output_type": "display_data"
    }
   ],
   "source": [
    "model_sf_1.predict(X_test, Y_test)"
   ]
  },
  {
   "cell_type": "code",
   "execution_count": 95,
   "metadata": {},
   "outputs": [
    {
     "name": "stdout",
     "output_type": "stream",
     "text": [
      "Model: \"server_model\"\n",
      "_________________________________________________________________\n",
      " Layer (type)                Output Shape              Param #   \n",
      "=================================================================\n",
      " dense_80 (Dense)            (None, 20)                1580      \n",
      "                                                                 \n",
      " dense_81 (Dense)            (None, 20)                420       \n",
      "                                                                 \n",
      " dense_82 (Dense)            (None, 20)                420       \n",
      "                                                                 \n",
      " dense_83 (Dense)            (None, 15)                315       \n",
      "                                                                 \n",
      "=================================================================\n",
      "Total params: 2,735\n",
      "Trainable params: 2,735\n",
      "Non-trainable params: 0\n",
      "_________________________________________________________________\n",
      "Epoch 1/10\n",
      "6193/6193 [==============================] - 17s 3ms/step - loss: 0.2404 - accuracy: 0.9251\n",
      "Epoch 2/10\n",
      "6193/6193 [==============================] - 16s 3ms/step - loss: 0.1144 - accuracy: 0.9648\n",
      "Epoch 3/10\n",
      "6193/6193 [==============================] - 17s 3ms/step - loss: 0.0864 - accuracy: 0.9776\n",
      "Epoch 4/10\n",
      "6193/6193 [==============================] - 17s 3ms/step - loss: 0.0724 - accuracy: 0.9818\n",
      "Epoch 5/10\n",
      "6193/6193 [==============================] - 17s 3ms/step - loss: 0.0635 - accuracy: 0.9842\n",
      "Epoch 6/10\n",
      "6193/6193 [==============================] - 17s 3ms/step - loss: 0.0569 - accuracy: 0.9857\n",
      "Epoch 7/10\n",
      "6193/6193 [==============================] - 17s 3ms/step - loss: 0.0521 - accuracy: 0.9869\n",
      "Epoch 8/10\n",
      "6193/6193 [==============================] - 17s 3ms/step - loss: 0.0492 - accuracy: 0.9877\n",
      "Epoch 9/10\n",
      "6193/6193 [==============================] - 17s 3ms/step - loss: 0.0462 - accuracy: 0.9884\n",
      "Epoch 10/10\n",
      "6193/6193 [==============================] - 17s 3ms/step - loss: 0.0442 - accuracy: 0.9889\n"
     ]
    }
   ],
   "source": [
    "model_sf_2 = MulticlassClassification(\n",
    "    78,\n",
    "    [20, 20, 20],\n",
    "    num_classes=15\n",
    ")\n",
    "model_sf_2.fit(X_2, Y_2, epochs=10, batch_size=32)"
   ]
  },
  {
   "cell_type": "code",
   "execution_count": 96,
   "metadata": {},
   "outputs": [
    {
     "name": "stdout",
     "output_type": "stream",
     "text": [
      "5308/5308 [==============================] - 9s 2ms/step\n",
      "              precision    recall  f1-score   support\n",
      "\n",
      "           0       0.99      0.99      0.99    136225\n",
      "           1       0.96      0.37      0.53       136\n",
      "           2       0.96      0.99      0.97      7715\n",
      "           3       0.97      0.69      0.81       642\n",
      "           4       0.97      0.97      0.97     13824\n",
      "           5       0.77      0.65      0.70       320\n",
      "           6       0.87      0.66      0.75       373\n",
      "           7       0.99      0.91      0.95       465\n",
      "          10       0.98      1.00      0.99      9649\n",
      "          11       0.92      0.97      0.95       352\n",
      "          12       0.00      0.00      0.00       104\n",
      "          13       0.00      0.00      0.00         2\n",
      "          14       0.00      0.00      0.00        38\n",
      "\n",
      "    accuracy                           0.99    169845\n",
      "   macro avg       0.72      0.63      0.66    169845\n",
      "weighted avg       0.99      0.99      0.99    169845\n",
      "\n"
     ]
    },
    {
     "data": {
      "image/png": "[encoded data removed]",
      "text/plain": [
       "<Figure size 432x288 with 2 Axes>"
      ]
     },
     "metadata": {
      "needs_background": "light"
     },
     "output_type": "display_data"
    }
   ],
   "source": [
    "model_sf_2.predict(X_test, Y_test)"
   ]
  },
  {
   "cell_type": "code",
   "execution_count": 97,
   "metadata": {},
   "outputs": [
    {
     "name": "stdout",
     "output_type": "stream",
     "text": [
      "Model: \"server_model\"\n",
      "_________________________________________________________________\n",
      " Layer (type)                Output Shape              Param #   \n",
      "=================================================================\n",
      " dense_84 (Dense)            (None, 20)                1580      \n",
      "                                                                 \n",
      " dense_85 (Dense)            (None, 20)                420       \n",
      "                                                                 \n",
      " dense_86 (Dense)            (None, 20)                420       \n",
      "                                                                 \n",
      " dense_87 (Dense)            (None, 15)                315       \n",
      "                                                                 \n",
      "=================================================================\n",
      "Total params: 2,735\n",
      "Trainable params: 2,735\n",
      "Non-trainable params: 0\n",
      "_________________________________________________________________\n"
     ]
    }
   ],
   "source": [
    "model_sf_3 = MulticlassClassification(\n",
    "    78,\n",
    "    [20, 20, 20],\n",
    "    num_classes=15\n",
    ")\n",
    "model_sf_3.set_avg_weights([model_sf_1, model_sf_2])"
   ]
  },
  {
   "cell_type": "code",
   "execution_count": 98,
   "metadata": {},
   "outputs": [
    {
     "name": "stdout",
     "output_type": "stream",
     "text": [
      "5308/5308 [==============================] - 10s 2ms/step\n",
      "              precision    recall  f1-score   support\n",
      "\n",
      "           0       0.81      1.00      0.89    136225\n",
      "           1       0.00      0.00      0.00       136\n",
      "           2       0.12      0.00      0.00      7715\n",
      "           3       0.00      0.00      0.00       642\n",
      "           4       0.00      0.00      0.00     13824\n",
      "           5       0.00      0.00      0.00       320\n",
      "           6       0.00      0.00      0.00       373\n",
      "           7       0.00      0.00      0.00       465\n",
      "          10       0.01      0.00      0.00      9649\n",
      "          11       0.00      0.00      0.00       352\n",
      "          12       0.00      0.00      0.00       104\n",
      "          13       0.00      0.00      0.00         2\n",
      "          14       0.00      0.00      0.00        38\n",
      "\n",
      "    accuracy                           0.80    169845\n",
      "   macro avg       0.07      0.08      0.07    169845\n",
      "weighted avg       0.66      0.80      0.72    169845\n",
      "\n"
     ]
    },
    {
     "data": {
      "image/png": "[encoded data removed]",
      "text/plain": [
       "<Figure size 432x288 with 2 Axes>"
      ]
     },
     "metadata": {
      "needs_background": "light"
     },
     "output_type": "display_data"
    }
   ],
   "source": [
    "model_sf_3.predict(X_test, Y_test)\n"
   ]
  },
  {
   "cell_type": "markdown",
   "metadata": {},
   "source": [
    "## Never Ending Learning\n",
    "### Anomaly Detection Using Isolation Forest"
   ]
  },
  {
   "cell_type": "code",
   "execution_count": 14,
   "metadata": {},
   "outputs": [
    {
     "data": {
      "text/html": [
       "<style>#sk-container-id-1 {color: black;background-color: white;}#sk-container-id-1 pre{padding: 0;}#sk-container-id-1 div.sk-toggleable {background-color: white;}#sk-container-id-1 label.sk-toggleable__label {cursor: pointer;display: block;width: 100%;margin-bottom: 0;padding: 0.3em;box-sizing: border-box;text-align: center;}#sk-container-id-1 label.sk-toggleable__label-arrow:before {content: \"▸\";float: left;margin-right: 0.25em;color: #696969;}#sk-container-id-1 label.sk-toggleable__label-arrow:hover:before {color: black;}#sk-container-id-1 div.sk-estimator:hover label.sk-toggleable__label-arrow:before {color: black;}#sk-container-id-1 div.sk-toggleable__content {max-height: 0;max-width: 0;overflow: hidden;text-align: left;background-color: #f0f8ff;}#sk-container-id-1 div.sk-toggleable__content pre {margin: 0.2em;color: black;border-radius: 0.25em;background-color: #f0f8ff;}#sk-container-id-1 input.sk-toggleable__control:checked~div.sk-toggleable__content {max-height: 200px;max-width: 100%;overflow: auto;}#sk-container-id-1 input.sk-toggleable__control:checked~label.sk-toggleable__label-arrow:before {content: \"▾\";}#sk-container-id-1 div.sk-estimator input.sk-toggleable__control:checked~label.sk-toggleable__label {background-color: #d4ebff;}#sk-container-id-1 div.sk-label input.sk-toggleable__control:checked~label.sk-toggleable__label {background-color: #d4ebff;}#sk-container-id-1 input.sk-hidden--visually {border: 0;clip: rect(1px 1px 1px 1px);clip: rect(1px, 1px, 1px, 1px);height: 1px;margin: -1px;overflow: hidden;padding: 0;position: absolute;width: 1px;}#sk-container-id-1 div.sk-estimator {font-family: monospace;background-color: #f0f8ff;border: 1px dotted black;border-radius: 0.25em;box-sizing: border-box;margin-bottom: 0.5em;}#sk-container-id-1 div.sk-estimator:hover {background-color: #d4ebff;}#sk-container-id-1 div.sk-parallel-item::after {content: \"\";width: 100%;border-bottom: 1px solid gray;flex-grow: 1;}#sk-container-id-1 div.sk-label:hover label.sk-toggleable__label {background-color: #d4ebff;}#sk-container-id-1 div.sk-serial::before {content: \"\";position: absolute;border-left: 1px solid gray;box-sizing: border-box;top: 0;bottom: 0;left: 50%;z-index: 0;}#sk-container-id-1 div.sk-serial {display: flex;flex-direction: column;align-items: center;background-color: white;padding-right: 0.2em;padding-left: 0.2em;position: relative;}#sk-container-id-1 div.sk-item {position: relative;z-index: 1;}#sk-container-id-1 div.sk-parallel {display: flex;align-items: stretch;justify-content: center;background-color: white;position: relative;}#sk-container-id-1 div.sk-item::before, #sk-container-id-1 div.sk-parallel-item::before {content: \"\";position: absolute;border-left: 1px solid gray;box-sizing: border-box;top: 0;bottom: 0;left: 50%;z-index: -1;}#sk-container-id-1 div.sk-parallel-item {display: flex;flex-direction: column;z-index: 1;position: relative;background-color: white;}#sk-container-id-1 div.sk-parallel-item:first-child::after {align-self: flex-end;width: 50%;}#sk-container-id-1 div.sk-parallel-item:last-child::after {align-self: flex-start;width: 50%;}#sk-container-id-1 div.sk-parallel-item:only-child::after {width: 0;}#sk-container-id-1 div.sk-dashed-wrapped {border: 1px dashed gray;margin: 0 0.4em 0.5em 0.4em;box-sizing: border-box;padding-bottom: 0.4em;background-color: white;}#sk-container-id-1 div.sk-label label {font-family: monospace;font-weight: bold;display: inline-block;line-height: 1.2em;}#sk-container-id-1 div.sk-label-container {text-align: center;}#sk-container-id-1 div.sk-container {/* jupyter's `normalize.less` sets `[hidden] { display: none; }` but bootstrap.min.css set `[hidden] { display: none !important; }` so we also need the `!important` here to be able to override the default hidden behavior on the sphinx rendered scikit-learn.org. See: https://github.com/scikit-learn/scikit-learn/issues/21755 */display: inline-block !important;position: relative;}#sk-container-id-1 div.sk-text-repr-fallback {display: none;}</style><div id=\"sk-container-id-1\" class=\"sk-top-container\"><div class=\"sk-text-repr-fallback\"><pre>IsolationForest(random_state=1)</pre><b>In a Jupyter environment, please rerun this cell to show the HTML representation or trust the notebook. <br />On GitHub, the HTML representation is unable to render, please try loading this page with nbviewer.org.</b></div><div class=\"sk-container\" hidden><div class=\"sk-item\"><div class=\"sk-estimator sk-toggleable\"><input class=\"sk-toggleable__control sk-hidden--visually\" id=\"sk-estimator-id-1\" type=\"checkbox\" checked><label for=\"sk-estimator-id-1\" class=\"sk-toggleable__label sk-toggleable__label-arrow\">IsolationForest</label><div class=\"sk-toggleable__content\"><pre>IsolationForest(random_state=1)</pre></div></div></div></div></div>"
      ],
      "text/plain": [
       "IsolationForest(random_state=1)"
      ]
     },
     "execution_count": 14,
     "metadata": {},
     "output_type": "execute_result"
    }
   ],
   "source": [
    "from sklearn.ensemble import IsolationForest\n",
    "\n",
    "isf = IsolationForest(random_state=1)\n",
    "isf.fit(X)"
   ]
  },
  {
   "cell_type": "code",
   "execution_count": 20,
   "metadata": {},
   "outputs": [],
   "source": [
    "preds = isf.predict(X_train)"
   ]
  },
  {
   "cell_type": "code",
   "execution_count": 22,
   "metadata": {},
   "outputs": [
    {
     "name": "stdout",
     "output_type": "stream",
     "text": [
      "23100 anomalies found\n"
     ]
    }
   ],
   "source": [
    "num_anomaly = len([p for p in preds if p == -1])\n",
    "print(f\"{num_anomaly} anomalies found\")"
   ]
  }
 ],
 "metadata": {
  "kernelspec": {
   "display_name": "Python 3.10.6 64-bit",
   "language": "python",
   "name": "python3"
  },
  "language_info": {
   "codemirror_mode": {
    "name": "ipython",
    "version": 3
   },
   "file_extension": ".py",
   "mimetype": "text/x-python",
   "name": "python",
   "nbconvert_exporter": "python",
   "pygments_lexer": "ipython3",
   "version": "3.10.7"
  },
  "orig_nbformat": 4,
  "vscode": {
   "interpreter": {
    "hash": "e7370f93d1d0cde622a1f8e1c04877d8463912d04d973331ad4851f04de6915a"
   }
  }
 },
 "nbformat": 4,
 "nbformat_minor": 2
}
